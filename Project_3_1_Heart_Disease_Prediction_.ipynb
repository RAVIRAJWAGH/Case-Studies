{
 "cells": [
  {
   "cell_type": "code",
   "execution_count": 1,
   "metadata": {
    "id": "BgT5csqzHpbK"
   },
   "outputs": [],
   "source": [
    "import pandas as pd\n",
    "import numpy as np\n",
    "from imblearn.over_sampling import SMOTE\n",
    "from imblearn.over_sampling import RandomOverSampler\n",
    "from sklearn.model_selection import train_test_split\n",
    "from sklearn.linear_model import LogisticRegression \n",
    "from sklearn.model_selection import cross_val_score\n",
    "from sklearn.model_selection import cross_val_predict\n",
    "from collections import Counter\n",
    "from sklearn.metrics import accuracy_score,confusion_matrix\n",
    "from sklearn.model_selection import StratifiedKFold\n",
    "from sklearn.model_selection import KFold"
   ]
  },
  {
   "cell_type": "code",
   "execution_count": 1,
   "metadata": {
    "id": "2dCZAKMSIPBT"
   },
   "outputs": [
    {
     "ename": "NameError",
     "evalue": "name 'pd' is not defined",
     "output_type": "error",
     "traceback": [
      "\u001b[1;31m---------------------------------------------------------------------------\u001b[0m",
      "\u001b[1;31mNameError\u001b[0m                                 Traceback (most recent call last)",
      "\u001b[1;32m~\\AppData\\Local\\Temp/ipykernel_21488/1607545763.py\u001b[0m in \u001b[0;36m<module>\u001b[1;34m\u001b[0m\n\u001b[0;32m      1\u001b[0m \u001b[1;31m#dataset=pd.read_csv(\"/content/drive/MyDrive/Datasets/heart.csv\")\u001b[0m\u001b[1;33m\u001b[0m\u001b[1;33m\u001b[0m\u001b[0m\n\u001b[1;32m----> 2\u001b[1;33m \u001b[0mdataset\u001b[0m\u001b[1;33m=\u001b[0m\u001b[0mpd\u001b[0m\u001b[1;33m.\u001b[0m\u001b[0mread_csv\u001b[0m\u001b[1;33m(\u001b[0m\u001b[1;34mr\"C:\\Users\\Parimal\\Downloads\\Heart Disease Dataset.csv\"\u001b[0m\u001b[1;33m)\u001b[0m\u001b[1;33m\u001b[0m\u001b[1;33m\u001b[0m\u001b[0m\n\u001b[0m",
      "\u001b[1;31mNameError\u001b[0m: name 'pd' is not defined"
     ]
    }
   ],
   "source": [
    "dataset=pd.read_csv(\"/content/drive/MyDrive/Datasets/heart.csv\")\n"
   ]
  },
  {
   "cell_type": "code",
   "execution_count": null,
   "metadata": {
    "colab": {
     "base_uri": "https://localhost:8080/",
     "height": 468
    },
    "id": "2VpoIPVLJDgb",
    "outputId": "ff776615-d46e-4728-acd3-20185f129e18"
   },
   "outputs": [],
   "source": [
    "dataset"
   ]
  },
  {
   "cell_type": "code",
   "execution_count": 4,
   "metadata": {
    "colab": {
     "base_uri": "https://localhost:8080/"
    },
    "id": "WMwK7sHUJEX4",
    "outputId": "af1f717e-10d3-4c72-fb76-234ea440aa76"
   },
   "outputs": [
    {
     "data": {
      "text/plain": [
       "age         0\n",
       "sex         0\n",
       "cp          0\n",
       "trestbps    0\n",
       "chol        0\n",
       "fbs         0\n",
       "restecg     0\n",
       "thalach     0\n",
       "exang       0\n",
       "oldpeak     0\n",
       "slope       0\n",
       "ca          0\n",
       "thal        0\n",
       "target      0\n",
       "dtype: int64"
      ]
     },
     "execution_count": 4,
     "metadata": {},
     "output_type": "execute_result"
    }
   ],
   "source": [
    "dataset.isnull().sum()"
   ]
  },
  {
   "cell_type": "code",
   "execution_count": 5,
   "metadata": {
    "id": "hXwh2dO3JbfJ"
   },
   "outputs": [],
   "source": [
    "x=dataset.iloc[:,:-1].values\n",
    "y=dataset.iloc[:,-1].values"
   ]
  },
  {
   "cell_type": "code",
   "execution_count": 6,
   "metadata": {
    "colab": {
     "base_uri": "https://localhost:8080/"
    },
    "id": "84m6drQkJmJL",
    "outputId": "7122b775-f100-4149-ce40-3c3cae0eca87"
   },
   "outputs": [
    {
     "data": {
      "text/plain": [
       "1    526\n",
       "0    499\n",
       "Name: target, dtype: int64"
      ]
     },
     "execution_count": 6,
     "metadata": {},
     "output_type": "execute_result"
    }
   ],
   "source": [
    "dataset[\"target\"].value_counts()"
   ]
  },
  {
   "cell_type": "code",
   "execution_count": 7,
   "metadata": {
    "id": "XhfxfP3hJrOi"
   },
   "outputs": [],
   "source": [
    "from sklearn.model_selection import train_test_split\n",
    "x_train1,x_test1,y_train1,y_test1=train_test_split(x,y,test_size=0.2,random_state=13)"
   ]
  },
  {
   "cell_type": "code",
   "execution_count": 9,
   "metadata": {
    "colab": {
     "base_uri": "https://localhost:8080/"
    },
    "id": "DjtwTgTBJ6jz",
    "outputId": "dbf00a89-a3f9-40d9-e8f7-603d3298308b"
   },
   "outputs": [
    {
     "data": {
      "text/plain": [
       "RandomForestClassifier(criterion='entropy', max_depth=5, n_estimators=5,\n",
       "                       random_state=12)"
      ]
     },
     "execution_count": 9,
     "metadata": {},
     "output_type": "execute_result"
    }
   ],
   "source": [
    "from sklearn.ensemble import RandomForestClassifier\n",
    "rfc=RandomForestClassifier(n_estimators=5,criterion=\"entropy\",max_depth=5,random_state=12)\n",
    "rfc.fit(x_train1,y_train1)"
   ]
  },
  {
   "cell_type": "code",
   "execution_count": 10,
   "metadata": {
    "colab": {
     "base_uri": "https://localhost:8080/"
    },
    "id": "gdSsbGuZKEVq",
    "outputId": "6b301c90-51e3-4e3f-d2bc-6a17a1952005"
   },
   "outputs": [
    {
     "name": "stdout",
     "output_type": "stream",
     "text": [
      "[0 0 1 0 0 0 0 0 1 0 0 0 0 1 0 1 0 1 0 0 0 0 0 1 1 0 1 1 1 0 1 0 1 0 1 0 1\n",
      " 1 1 0 1 0 0 1 0 0 1 0 1 0 1 1 1 0 0 1 1 0 0 0 1 0 1 0 0 0 1 0 1 1 1 1 1 0\n",
      " 0 0 0 1 0 1 1 1 0 0 0 0 1 1 0 0 1 1 0 1 1 1 0 1 0 1 0 0 1 0 1 0 1 0 1 1 1\n",
      " 0 1 0 1 1 1 0 1 1 1 0 1 1 0 1 0 0 0 1 1 1 1 1 1 1 0 0 0 0 0 1 1 1 0 1 1 0\n",
      " 1 0 0 0 0 1 0 1 0 1 0 1 1 1 1 1 0 0 1 0 1 1 0 1 1 0 1 0 0 1 0 0 1 0 1 0 0\n",
      " 0 1 0 0 0 1 1 0 0 1 1 1 0 1 1 1 1 1 1 1]\n"
     ]
    }
   ],
   "source": [
    "y_pred=rfc.predict(x_test1)\n",
    "print(y_pred)"
   ]
  },
  {
   "cell_type": "code",
   "execution_count": 15,
   "metadata": {
    "id": "LdV2d0SnLgVN"
   },
   "outputs": [],
   "source": [
    "from sklearn.ensemble import RandomForestClassifier\n",
    "rfc=RandomForestClassifier(n_estimators=5,criterion=\"entropy\",max_depth=5,random_state=12)\n",
    "# rfc.fit(x_train1,y_train1)"
   ]
  },
  {
   "cell_type": "code",
   "execution_count": 16,
   "metadata": {
    "colab": {
     "base_uri": "https://localhost:8080/"
    },
    "id": "7kFUTfO2MrvY",
    "outputId": "87a514c5-350c-40bc-a341-289b900392e7"
   },
   "outputs": [
    {
     "name": "stdout",
     "output_type": "stream",
     "text": [
      "KFold(n_splits=5, random_state=11, shuffle=True)\n"
     ]
    }
   ],
   "source": [
    "from sklearn.model_selection import KFold\n",
    "kf=KFold(n_splits=5,random_state=11,shuffle=True)\n",
    "kf.get_n_splits(x)\n",
    "print(kf)\n"
   ]
  },
  {
   "cell_type": "code",
   "execution_count": 20,
   "metadata": {
    "colab": {
     "base_uri": "https://localhost:8080/"
    },
    "id": "YnSDty2yLlTt",
    "outputId": "055804b3-0e60-423e-fbf3-4856842d7b13"
   },
   "outputs": [
    {
     "name": "stdout",
     "output_type": "stream",
     "text": [
      "Testing Data:  [[70.  1.  0. ...  0.  0.  3.]\n",
      " [62.  0.  0. ...  1.  3.  2.]\n",
      " [61.  0.  0. ...  1.  0.  3.]\n",
      " ...\n",
      " [47.  1.  0. ...  2.  0.  2.]\n",
      " [60.  1.  0. ...  1.  1.  3.]\n",
      " [54.  1.  0. ...  1.  1.  3.]]\n",
      "Training Data:  [0 0 0 1 1 1 1 0 1 1 1 1 0 0 0 1 0 0 0 1 1 0 0 0 1 1 0 1 1 0 0 0 0 0 0 1 1\n",
      " 1 1 0 0 0 0 0 0 1 1 1 1 1 1 1 1 0 1 1 0 1 0 1 1 1 1 1 1 0 0 1 0 0 1 0 1 1\n",
      " 0 0 0 0 1 0 0 0 1 0 1 0 0 0 1 0 1 0 1 1 0 0 1 1 1 1 0 0 1 1 1 0 1 1 1 1 0\n",
      " 1 0 0 0 1 0 0 1 1 0 1 0 1 1 0 0 1 1 1 1 1 0 1 0 0 0 0 0 1 1 1 0 1 1 0 1 1\n",
      " 0 0 1 1 1 1 1 0 1 1 1 0 1 0 0 0 1 1 0 0 1 0 1 0 1 1 1 1 1 0 1 0 0 0 0 0 0\n",
      " 0 0 1 1 0 0 0 1 1 1 1 1 1 1 0 1 0 1 0 0]\n",
      "Checking y_test Balancing.......: Counter({1: 108, 0: 97})\n",
      "[0 0 0 1 1 1 1 0 0 1 1 1 0 0 1 1 1 0 0 1 1 0 0 0 0 1 0 1 1 0 0 0 0 0 0 1 0\n",
      " 0 1 0 0 0 1 0 0 1 1 1 1 1 1 0 1 0 1 1 1 1 0 1 1 1 1 0 1 0 0 1 0 0 1 0 1 0\n",
      " 0 0 1 0 0 0 0 0 1 0 1 0 0 1 1 1 0 0 1 0 0 1 1 1 1 1 1 0 1 0 1 0 0 1 1 1 1\n",
      " 1 0 1 0 1 1 0 1 1 0 1 0 1 1 0 1 1 0 1 1 1 1 1 1 0 0 0 0 1 1 1 0 0 1 0 1 1\n",
      " 1 0 1 1 1 1 1 0 1 1 1 0 1 0 1 0 1 1 0 0 1 0 1 0 1 1 0 1 1 0 1 0 1 0 0 0 0\n",
      " 1 1 1 0 0 1 0 1 1 1 0 1 1 1 0 1 1 1 0 0]\n",
      "[0.87804878 0.87804878 0.90243902 0.88414634 0.88414634]\n",
      "88.53658536585365\n",
      "80.97560975609757 Accuracy Score on testing Set\n",
      "Testing Data:  [[58.  1.  0. ...  0.  3.  1.]\n",
      " [43.  0.  0. ...  1.  0.  3.]\n",
      " [67.  0.  0. ...  2.  2.  2.]\n",
      " ...\n",
      " [44.  0.  2. ...  1.  0.  2.]\n",
      " [41.  1.  0. ...  2.  0.  3.]\n",
      " [59.  1.  1. ...  2.  0.  2.]]\n",
      "Training Data:  [0 0 1 1 1 0 0 0 1 0 0 0 0 0 0 1 0 0 0 1 1 1 1 1 1 0 1 1 1 1 0 0 0 1 0 0 1\n",
      " 1 0 1 1 0 1 1 0 0 1 0 1 0 0 1 0 0 0 1 1 1 0 1 1 0 1 1 1 1 0 1 1 1 0 0 1 0\n",
      " 1 1 0 1 1 0 0 1 0 1 0 1 0 0 0 1 0 0 1 1 1 0 0 1 0 0 0 0 1 1 0 0 0 1 1 1 1\n",
      " 0 0 1 0 0 0 0 0 0 1 0 0 0 0 1 0 1 1 1 1 1 1 1 1 1 0 0 0 0 1 1 1 0 0 1 0 1\n",
      " 1 0 0 1 1 0 1 0 0 0 0 1 0 0 0 1 1 1 0 0 0 1 0 1 0 0 1 0 0 1 1 1 0 0 0 0 1\n",
      " 0 1 1 0 1 1 1 0 0 1 0 1 0 1 0 0 0 1 0 1]\n",
      "Checking y_test Balancing.......: Counter({0: 107, 1: 98})\n",
      "[0 0 0 1 1 0 0 0 1 0 0 0 0 0 0 1 0 0 0 1 0 1 0 0 1 0 1 0 0 1 0 0 0 1 0 0 1\n",
      " 0 0 1 1 0 1 1 0 0 1 0 1 0 0 1 0 1 0 1 1 1 0 1 1 0 1 1 1 1 0 0 1 1 0 0 0 0\n",
      " 0 1 0 1 1 0 0 1 0 1 0 1 0 0 0 1 0 0 1 1 0 1 0 1 1 0 0 0 1 1 0 1 0 1 1 1 1\n",
      " 0 0 1 0 0 0 1 0 0 1 0 1 0 0 1 0 1 0 0 1 1 1 1 1 1 1 0 1 0 0 1 1 0 0 1 1 0\n",
      " 1 0 0 0 1 1 1 1 0 0 1 1 0 0 0 1 0 1 0 0 1 1 0 1 0 0 1 0 0 1 1 1 0 1 0 1 1\n",
      " 0 1 1 1 1 1 1 0 0 1 0 0 0 1 1 0 0 1 1 1]\n",
      "[0.91463415 0.8597561  0.89634146 0.83536585 0.87804878]\n",
      "87.6829268292683\n",
      "82.4390243902439 Accuracy Score on testing Set\n",
      "Testing Data:  [[61.  1.  0. ...  2.  1.  3.]\n",
      " [55.  1.  0. ...  1.  1.  3.]\n",
      " [46.  1.  0. ...  2.  0.  3.]\n",
      " ...\n",
      " [58.  1.  2. ...  2.  0.  2.]\n",
      " [58.  1.  0. ...  1.  3.  3.]\n",
      " [47.  1.  0. ...  1.  1.  2.]]\n",
      "Training Data:  [0 0 0 0 0 1 0 1 0 0 1 0 0 1 1 1 0 0 0 0 0 1 1 1 1 1 1 0 1 1 0 0 0 1 1 1 1\n",
      " 1 1 0 1 1 1 1 0 0 0 1 1 0 0 0 0 0 1 1 1 1 1 1 1 0 0 1 1 1 1 1 0 0 1 1 0 1\n",
      " 0 0 1 0 0 1 1 0 0 1 1 0 0 1 1 1 1 1 1 1 0 0 0 1 0 0 1 1 1 0 1 1 0 0 1 1 1\n",
      " 1 0 0 1 1 1 0 0 0 0 1 0 0 1 1 0 1 0 0 0 0 0 0 1 0 0 0 0 0 0 0 0 0 1 1 0 1\n",
      " 0 1 1 1 0 0 1 0 0 1 0 0 1 1 1 0 1 0 1 1 0 1 1 0 0 0 1 1 0 0 0 1 0 1 0 0 0\n",
      " 1 1 0 1 1 1 1 1 1 0 0 0 0 0 1 1 0 1 0 0]\n",
      "Checking y_test Balancing.......: Counter({0: 103, 1: 102})\n",
      "[1 0 0 0 1 1 1 1 0 0 1 1 0 1 1 1 0 0 0 0 0 1 1 1 0 1 1 1 1 1 0 0 0 0 1 1 1\n",
      " 0 1 0 1 1 1 1 1 0 1 1 1 0 0 0 0 1 1 0 1 1 1 1 1 0 0 1 1 1 1 1 0 1 0 1 1 1\n",
      " 0 0 1 0 0 1 1 1 0 1 1 0 1 1 1 1 1 1 1 1 0 1 0 1 0 0 1 0 1 0 1 1 0 0 1 1 1\n",
      " 1 0 0 1 1 1 0 0 0 0 1 0 0 0 1 0 0 1 1 0 0 0 0 1 0 0 0 1 0 0 0 0 0 1 1 0 1\n",
      " 0 1 1 0 0 0 1 0 0 1 0 1 1 1 1 0 0 0 1 1 0 0 1 1 1 1 1 1 0 0 1 0 0 1 0 0 0\n",
      " 1 1 1 1 1 0 1 1 1 1 0 0 0 0 0 1 0 1 0 0]\n",
      "[0.90243902 0.87804878 0.8902439  0.81707317 0.92682927]\n",
      "88.29268292682929\n",
      "81.95121951219512 Accuracy Score on testing Set\n",
      "Testing Data:  [[52.  1.  0. ...  2.  2.  3.]\n",
      " [58.  0.  0. ...  1.  0.  2.]\n",
      " [34.  0.  1. ...  2.  0.  2.]\n",
      " ...\n",
      " [42.  1.  0. ...  2.  0.  2.]\n",
      " [45.  1.  1. ...  2.  0.  2.]\n",
      " [50.  0.  0. ...  2.  0.  2.]]\n",
      "Training Data:  [0 1 1 0 1 0 0 0 1 1 0 1 0 1 0 0 0 1 1 1 1 1 1 0 0 1 0 0 1 0 1 1 0 0 0 0 1\n",
      " 1 0 1 0 0 0 1 0 0 1 1 1 0 1 0 1 1 1 1 1 0 1 1 1 0 0 1 0 0 0 0 1 0 1 0 0 1\n",
      " 1 0 1 0 1 1 0 1 0 0 1 1 1 1 1 0 1 1 1 1 0 1 1 0 0 0 1 1 1 1 0 0 0 1 1 0 1\n",
      " 1 1 1 1 1 0 1 1 1 0 1 0 1 0 0 0 1 1 0 1 0 1 0 0 0 1 0 1 1 1 0 1 0 0 1 1 0\n",
      " 1 1 0 0 1 1 1 1 1 0 1 1 1 0 0 0 1 0 1 1 0 0 0 1 0 0 0 0 1 1 0 0 0 1 0 0 1\n",
      " 0 1 1 0 0 0 1 0 1 1 1 0 0 0 1 1 0 1 1 1]\n",
      "Checking y_test Balancing.......: Counter({1: 110, 0: 95})\n",
      "[0 1 1 0 1 0 0 1 0 1 0 1 0 1 1 0 1 1 0 1 1 0 1 0 0 0 0 0 1 0 0 1 0 0 0 0 1\n",
      " 0 0 1 0 0 0 1 0 1 1 1 1 0 1 0 1 1 1 1 1 0 1 1 1 0 0 0 0 0 0 0 1 1 1 1 0 1\n",
      " 1 1 1 0 0 1 0 1 0 0 1 1 1 1 1 1 1 1 1 1 0 1 1 0 0 0 0 1 1 1 0 0 1 1 1 1 1\n",
      " 1 1 1 1 1 0 1 1 1 1 1 0 0 0 0 0 1 1 0 1 1 1 0 1 0 1 0 1 1 1 0 1 0 0 1 0 0\n",
      " 1 1 0 0 0 1 1 0 1 0 1 1 0 0 0 0 1 0 1 1 0 0 0 1 0 1 0 0 1 1 1 0 0 1 0 0 1\n",
      " 0 1 1 0 0 1 1 0 1 1 1 0 1 0 1 0 0 1 1 1]\n",
      "[0.87195122 0.89634146 0.86585366 0.8597561  0.93902439]\n",
      "88.65853658536587\n",
      "84.39024390243902 Accuracy Score on testing Set\n",
      "Testing Data:  [[53.  1.  0. ...  0.  0.  3.]\n",
      " [71.  0.  0. ...  1.  0.  2.]\n",
      " [34.  0.  1. ...  2.  0.  2.]\n",
      " ...\n",
      " [51.  1.  0. ...  2.  0.  3.]\n",
      " [48.  1.  1. ...  0.  0.  3.]\n",
      " [53.  1.  0. ...  1.  2.  3.]]\n",
      "Training Data:  [0 1 1 0 1 1 1 0 0 0 1 1 1 0 0 1 1 0 1 1 1 0 1 0 1 1 1 0 0 1 1 1 1 1 1 0 0\n",
      " 0 0 0 1 0 1 1 0 0 1 1 1 1 1 1 0 0 1 1 1 0 1 1 0 0 0 1 0 1 1 0 0 1 0 0 1 1\n",
      " 1 0 0 0 0 1 1 1 1 1 0 1 0 0 1 1 0 0 1 0 1 1 0 0 1 1 0 1 0 0 0 0 1 0 0 0 0\n",
      " 1 0 1 1 1 1 0 0 0 0 0 1 1 0 1 1 0 0 1 1 1 0 0 1 1 0 1 1 0 1 0 1 1 1 0 0 0\n",
      " 0 0 0 1 1 0 0 0 1 1 1 1 0 0 1 0 0 1 1 1 1 0 0 1 0 1 1 0 1 0 0 0 1 0 0 1 0\n",
      " 0 1 1 1 1 1 1 1 1 1 1 1 0 0 0 1 0 0 0 0]\n",
      "Checking y_test Balancing.......: Counter({1: 108, 0: 97})\n",
      "[0 1 1 0 1 1 1 1 0 0 1 0 1 1 0 1 1 0 1 1 1 1 1 0 1 1 1 1 0 1 1 1 1 1 1 0 1\n",
      " 0 0 1 1 1 1 1 1 0 1 1 1 1 1 1 0 1 1 1 1 0 1 1 0 1 0 0 0 1 1 0 0 0 0 0 0 1\n",
      " 1 0 0 0 0 1 1 1 1 1 0 1 0 0 1 1 0 0 1 0 1 0 0 0 1 1 1 1 0 0 0 0 1 0 0 0 0\n",
      " 1 0 1 1 1 0 0 1 1 0 1 1 1 0 1 1 0 0 0 0 1 0 0 0 1 0 1 1 0 0 1 1 1 1 0 0 0\n",
      " 0 0 0 1 0 0 0 0 1 0 1 1 0 0 1 0 1 1 1 1 1 0 0 1 0 1 0 0 1 0 1 1 1 1 0 1 0\n",
      " 0 1 1 1 1 0 1 1 1 1 1 1 1 0 0 0 1 1 0 0]\n",
      "[0.89634146 0.89634146 0.84146341 0.92073171 0.93292683]\n",
      "89.75609756097562\n",
      "81.95121951219512 Accuracy Score on testing Set\n"
     ]
    }
   ],
   "source": [
    "for train_data,test_data in kf.split(x):\n",
    "\n",
    "    x_train,x_test=x[train_data],x[test_data]\n",
    "    y_train,y_test=y[train_data],y[test_data]\n",
    "\n",
    "    print(\"Testing Data: \",x_test)\n",
    "    print(\"Training Data: \",y_test)\n",
    "    scores=cross_val_score(rfc,x_train,y_train,cv=kf)\n",
    "    y_pred=cross_val_predict(rfc,x_test,y_test)\n",
    "\n",
    "    print(\"Checking y_test Balancing.......:\",Counter(y_test))\n",
    "    print(y_pred)\n",
    "    print(scores)\n",
    "    print(np.mean(scores)*100)\n",
    "\n",
    "    ac=accuracy_score(y_pred,y_test)*100\n",
    "    print(ac,\"Accuracy Score on testing Set\")"
   ]
  },
  {
   "cell_type": "code",
   "execution_count": null,
   "metadata": {
    "id": "hAhW_SK_MWkZ"
   },
   "outputs": [],
   "source": []
  }
 ],
 "metadata": {
  "colab": {
   "provenance": []
  },
  "kernelspec": {
   "display_name": "Python 3 (ipykernel)",
   "language": "python",
   "name": "python3"
  },
  "language_info": {
   "codemirror_mode": {
    "name": "ipython",
    "version": 3
   },
   "file_extension": ".py",
   "mimetype": "text/x-python",
   "name": "python",
   "nbconvert_exporter": "python",
   "pygments_lexer": "ipython3",
   "version": "3.9.7"
  }
 },
 "nbformat": 4,
 "nbformat_minor": 1
}
