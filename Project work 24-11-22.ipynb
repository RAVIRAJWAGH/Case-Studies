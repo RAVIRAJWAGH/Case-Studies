{
 "cells": [
  {
   "cell_type": "markdown",
   "metadata": {},
   "source": [
    "## Analysis of Credit Card Data and\n",
    "## predictive modelling of payment status\n",
    "## of person for next month.\n"
   ]
  },
  {
   "cell_type": "markdown",
   "metadata": {},
   "source": [
    "## Import Libraries"
   ]
  },
  {
   "cell_type": "code",
   "execution_count": 38,
   "metadata": {},
   "outputs": [],
   "source": [
    "import pandas as pd\n",
    "import numpy as np\n",
    "import matplotlib.pyplot as plt\n",
    "import seaborn as sns\n",
    "import warnings \n",
    "warnings.filterwarnings('ignore')"
   ]
  },
  {
   "cell_type": "markdown",
   "metadata": {},
   "source": [
    "## Problem Statement"
   ]
  },
  {
   "cell_type": "markdown",
   "metadata": {},
   "source": [
    "## The project being prepared to understand whether the credit card customer will make payment default in the next month or not based on number of features."
   ]
  },
  {
   "cell_type": "markdown",
   "metadata": {},
   "source": [
    "## Data Loading"
   ]
  },
  {
   "cell_type": "code",
   "execution_count": 45,
   "metadata": {
    "scrolled": true
   },
   "outputs": [
    {
     "data": {
      "text/html": [
       "<div>\n",
       "<style scoped>\n",
       "    .dataframe tbody tr th:only-of-type {\n",
       "        vertical-align: middle;\n",
       "    }\n",
       "\n",
       "    .dataframe tbody tr th {\n",
       "        vertical-align: top;\n",
       "    }\n",
       "\n",
       "    .dataframe thead th {\n",
       "        text-align: right;\n",
       "    }\n",
       "</style>\n",
       "<table border=\"1\" class=\"dataframe\">\n",
       "  <thead>\n",
       "    <tr style=\"text-align: right;\">\n",
       "      <th></th>\n",
       "      <th>ID</th>\n",
       "      <th>LIMIT_BAL</th>\n",
       "      <th>SEX</th>\n",
       "      <th>EDUCATION</th>\n",
       "      <th>MARRIAGE</th>\n",
       "      <th>AGE</th>\n",
       "      <th>PAY_0</th>\n",
       "      <th>PAY_2</th>\n",
       "      <th>PAY_3</th>\n",
       "      <th>PAY_4</th>\n",
       "      <th>...</th>\n",
       "      <th>BILL_AMT4</th>\n",
       "      <th>BILL_AMT5</th>\n",
       "      <th>BILL_AMT6</th>\n",
       "      <th>PAY_AMT1</th>\n",
       "      <th>PAY_AMT2</th>\n",
       "      <th>PAY_AMT3</th>\n",
       "      <th>PAY_AMT4</th>\n",
       "      <th>PAY_AMT5</th>\n",
       "      <th>PAY_AMT6</th>\n",
       "      <th>default payment next month</th>\n",
       "    </tr>\n",
       "  </thead>\n",
       "  <tbody>\n",
       "    <tr>\n",
       "      <th>0</th>\n",
       "      <td>1</td>\n",
       "      <td>20000</td>\n",
       "      <td>2</td>\n",
       "      <td>2</td>\n",
       "      <td>1</td>\n",
       "      <td>24</td>\n",
       "      <td>2</td>\n",
       "      <td>2</td>\n",
       "      <td>-1</td>\n",
       "      <td>-1</td>\n",
       "      <td>...</td>\n",
       "      <td>0</td>\n",
       "      <td>0</td>\n",
       "      <td>0</td>\n",
       "      <td>0</td>\n",
       "      <td>689</td>\n",
       "      <td>0</td>\n",
       "      <td>0</td>\n",
       "      <td>0</td>\n",
       "      <td>0</td>\n",
       "      <td>1</td>\n",
       "    </tr>\n",
       "    <tr>\n",
       "      <th>1</th>\n",
       "      <td>2</td>\n",
       "      <td>120000</td>\n",
       "      <td>2</td>\n",
       "      <td>2</td>\n",
       "      <td>2</td>\n",
       "      <td>26</td>\n",
       "      <td>-1</td>\n",
       "      <td>2</td>\n",
       "      <td>0</td>\n",
       "      <td>0</td>\n",
       "      <td>...</td>\n",
       "      <td>3272</td>\n",
       "      <td>3455</td>\n",
       "      <td>3261</td>\n",
       "      <td>0</td>\n",
       "      <td>1000</td>\n",
       "      <td>1000</td>\n",
       "      <td>1000</td>\n",
       "      <td>0</td>\n",
       "      <td>2000</td>\n",
       "      <td>1</td>\n",
       "    </tr>\n",
       "    <tr>\n",
       "      <th>2</th>\n",
       "      <td>3</td>\n",
       "      <td>90000</td>\n",
       "      <td>2</td>\n",
       "      <td>2</td>\n",
       "      <td>2</td>\n",
       "      <td>34</td>\n",
       "      <td>0</td>\n",
       "      <td>0</td>\n",
       "      <td>0</td>\n",
       "      <td>0</td>\n",
       "      <td>...</td>\n",
       "      <td>14331</td>\n",
       "      <td>14948</td>\n",
       "      <td>15549</td>\n",
       "      <td>1518</td>\n",
       "      <td>1500</td>\n",
       "      <td>1000</td>\n",
       "      <td>1000</td>\n",
       "      <td>1000</td>\n",
       "      <td>5000</td>\n",
       "      <td>0</td>\n",
       "    </tr>\n",
       "    <tr>\n",
       "      <th>3</th>\n",
       "      <td>4</td>\n",
       "      <td>50000</td>\n",
       "      <td>2</td>\n",
       "      <td>2</td>\n",
       "      <td>1</td>\n",
       "      <td>37</td>\n",
       "      <td>0</td>\n",
       "      <td>0</td>\n",
       "      <td>0</td>\n",
       "      <td>0</td>\n",
       "      <td>...</td>\n",
       "      <td>28314</td>\n",
       "      <td>28959</td>\n",
       "      <td>29547</td>\n",
       "      <td>2000</td>\n",
       "      <td>2019</td>\n",
       "      <td>1200</td>\n",
       "      <td>1100</td>\n",
       "      <td>1069</td>\n",
       "      <td>1000</td>\n",
       "      <td>0</td>\n",
       "    </tr>\n",
       "    <tr>\n",
       "      <th>4</th>\n",
       "      <td>5</td>\n",
       "      <td>50000</td>\n",
       "      <td>1</td>\n",
       "      <td>2</td>\n",
       "      <td>1</td>\n",
       "      <td>57</td>\n",
       "      <td>-1</td>\n",
       "      <td>0</td>\n",
       "      <td>-1</td>\n",
       "      <td>0</td>\n",
       "      <td>...</td>\n",
       "      <td>20940</td>\n",
       "      <td>19146</td>\n",
       "      <td>19131</td>\n",
       "      <td>2000</td>\n",
       "      <td>36681</td>\n",
       "      <td>10000</td>\n",
       "      <td>9000</td>\n",
       "      <td>689</td>\n",
       "      <td>679</td>\n",
       "      <td>0</td>\n",
       "    </tr>\n",
       "  </tbody>\n",
       "</table>\n",
       "<p>5 rows × 25 columns</p>\n",
       "</div>"
      ],
      "text/plain": [
       "   ID  LIMIT_BAL  SEX  EDUCATION  MARRIAGE  AGE  PAY_0  PAY_2  PAY_3  PAY_4  \\\n",
       "0   1      20000    2          2         1   24      2      2     -1     -1   \n",
       "1   2     120000    2          2         2   26     -1      2      0      0   \n",
       "2   3      90000    2          2         2   34      0      0      0      0   \n",
       "3   4      50000    2          2         1   37      0      0      0      0   \n",
       "4   5      50000    1          2         1   57     -1      0     -1      0   \n",
       "\n",
       "   ...  BILL_AMT4  BILL_AMT5  BILL_AMT6  PAY_AMT1  PAY_AMT2  PAY_AMT3  \\\n",
       "0  ...          0          0          0         0       689         0   \n",
       "1  ...       3272       3455       3261         0      1000      1000   \n",
       "2  ...      14331      14948      15549      1518      1500      1000   \n",
       "3  ...      28314      28959      29547      2000      2019      1200   \n",
       "4  ...      20940      19146      19131      2000     36681     10000   \n",
       "\n",
       "   PAY_AMT4  PAY_AMT5  PAY_AMT6  default payment next month  \n",
       "0         0         0         0                           1  \n",
       "1      1000         0      2000                           1  \n",
       "2      1000      1000      5000                           0  \n",
       "3      1100      1069      1000                           0  \n",
       "4      9000       689       679                           0  \n",
       "\n",
       "[5 rows x 25 columns]"
      ]
     },
     "execution_count": 45,
     "metadata": {},
     "output_type": "execute_result"
    }
   ],
   "source": [
    "df = pd.read_csv(r\"C:\\Users\\Parimal\\Downloads\\default of credit card clients.csv\")\n",
    "df.head()"
   ]
  },
  {
   "cell_type": "code",
   "execution_count": 46,
   "metadata": {},
   "outputs": [
    {
     "data": {
      "text/plain": [
       "<AxesSubplot:xlabel='LIMIT_BAL'>"
      ]
     },
     "execution_count": 46,
     "metadata": {},
     "output_type": "execute_result"
    },
    {
     "data": {
      "image/png": "[encoded data removed]",
      "text/plain": [
       "<Figure size 432x288 with 1 Axes>"
      ]
     },
     "metadata": {
      "needs_background": "light"
     },
     "output_type": "display_data"
    }
   ],
   "source": [
    "sns.boxplot(df['LIMIT_BAL'])"
   ]
  },
  {
   "cell_type": "code",
   "execution_count": 47,
   "metadata": {},
   "outputs": [
    {
     "name": "stdout",
     "output_type": "stream",
     "text": [
      " IQR :- 190000.0\n",
      " Uppertail :- 525000.0\n",
      " Lowertail :- -235000.0\n"
     ]
    }
   ],
   "source": [
    "# q1 = df['LIMIT_BAL'].quantile(0.25)\n",
    "# q2 = df['LIMIT_BAL'].quantile(0.50)\n",
    "# q3 = df['LIMIT_BAL'].quantile(0.75)\n",
    "# IQR = q3-q1\n",
    "# uppertail = q3+1.5*IQR\n",
    "# lowertail = q1-1.5*IQR\n",
    "# # print(' first quartile :-',q1,\"\\n second qurartile :-\",q2,\"\\n Third quartile :-\",q3)\n",
    "# print(' IQR :-',IQR)\n",
    "# print(' Uppertail :-',uppertail)\n",
    "# print(\" Lowertail :-\",lowertail)"
   ]
  },
  {
   "cell_type": "code",
   "execution_count": 48,
   "metadata": {},
   "outputs": [],
   "source": [
    "# # df.loc[df['CreditScore'] < lowertail, 'CreditScore'] = lowertail\n",
    "# median = df.loc[df['LIMIT_BAL'] < uppertail, 'LIMIT_BAL'].median()\n",
    "# df.loc[df['LIMIT_BAL'] > uppertail, 'LIMIT_BAL'] = median"
   ]
  },
  {
   "cell_type": "code",
   "execution_count": 49,
   "metadata": {},
   "outputs": [],
   "source": [
    "x = 1/df['LIMIT_BAL']\n",
    "df.loc[df['LIMIT_BAL'] > uppertail, 'LIMIT_BAL'] = x"
   ]
  },
  {
   "cell_type": "code",
   "execution_count": null,
   "metadata": {},
   "outputs": [],
   "source": []
  },
  {
   "cell_type": "code",
   "execution_count": 50,
   "metadata": {},
   "outputs": [
    {
     "data": {
      "text/plain": [
       "<AxesSubplot:xlabel='LIMIT_BAL'>"
      ]
     },
     "execution_count": 50,
     "metadata": {},
     "output_type": "execute_result"
    },
    {
     "data": {
      "image/png": "[encoded data removed]",
      "text/plain": [
       "<Figure size 432x288 with 1 Axes>"
      ]
     },
     "metadata": {
      "needs_background": "light"
     },
     "output_type": "display_data"
    }
   ],
   "source": [
    "sns.boxplot(df['LIMIT_BAL'])"
   ]
  },
  {
   "cell_type": "code",
   "execution_count": null,
   "metadata": {},
   "outputs": [],
   "source": []
  },
  {
   "cell_type": "markdown",
   "metadata": {},
   "source": [
    "## PART 1: Data Preprocessing"
   ]
  },
  {
   "cell_type": "code",
   "execution_count": 4,
   "metadata": {},
   "outputs": [
    {
     "name": "stdout",
     "output_type": "stream",
     "text": [
      "<class 'pandas.core.frame.DataFrame'>\n",
      "RangeIndex: 30000 entries, 0 to 29999\n",
      "Data columns (total 25 columns):\n",
      " #   Column                      Non-Null Count  Dtype\n",
      "---  ------                      --------------  -----\n",
      " 0   ID                          30000 non-null  int64\n",
      " 1   LIMIT_BAL                   30000 non-null  int64\n",
      " 2   SEX                         30000 non-null  int64\n",
      " 3   EDUCATION                   30000 non-null  int64\n",
      " 4   MARRIAGE                    30000 non-null  int64\n",
      " 5   AGE                         30000 non-null  int64\n",
      " 6   PAY_0                       30000 non-null  int64\n",
      " 7   PAY_2                       30000 non-null  int64\n",
      " 8   PAY_3                       30000 non-null  int64\n",
      " 9   PAY_4                       30000 non-null  int64\n",
      " 10  PAY_5                       30000 non-null  int64\n",
      " 11  PAY_6                       30000 non-null  int64\n",
      " 12  BILL_AMT1                   30000 non-null  int64\n",
      " 13  BILL_AMT2                   30000 non-null  int64\n",
      " 14  BILL_AMT3                   30000 non-null  int64\n",
      " 15  BILL_AMT4                   30000 non-null  int64\n",
      " 16  BILL_AMT5                   30000 non-null  int64\n",
      " 17  BILL_AMT6                   30000 non-null  int64\n",
      " 18  PAY_AMT1                    30000 non-null  int64\n",
      " 19  PAY_AMT2                    30000 non-null  int64\n",
      " 20  PAY_AMT3                    30000 non-null  int64\n",
      " 21  PAY_AMT4                    30000 non-null  int64\n",
      " 22  PAY_AMT5                    30000 non-null  int64\n",
      " 23  PAY_AMT6                    30000 non-null  int64\n",
      " 24  default payment next month  30000 non-null  int64\n",
      "dtypes: int64(25)\n",
      "memory usage: 5.7 MB\n"
     ]
    }
   ],
   "source": [
    "df.info()"
   ]
  },
  {
   "cell_type": "code",
   "execution_count": 4,
   "metadata": {},
   "outputs": [
    {
     "data": {
      "text/plain": [
       "(30000, 25)"
      ]
     },
     "execution_count": 4,
     "metadata": {},
     "output_type": "execute_result"
    }
   ],
   "source": [
    "df.shape               "
   ]
  },
  {
   "cell_type": "code",
   "execution_count": 5,
   "metadata": {},
   "outputs": [
    {
     "data": {
      "text/plain": [
       "ID                            0\n",
       "LIMIT_BAL                     0\n",
       "SEX                           0\n",
       "EDUCATION                     0\n",
       "MARRIAGE                      0\n",
       "AGE                           0\n",
       "PAY_0                         0\n",
       "PAY_2                         0\n",
       "PAY_3                         0\n",
       "PAY_4                         0\n",
       "PAY_5                         0\n",
       "PAY_6                         0\n",
       "BILL_AMT1                     0\n",
       "BILL_AMT2                     0\n",
       "BILL_AMT3                     0\n",
       "BILL_AMT4                     0\n",
       "BILL_AMT5                     0\n",
       "BILL_AMT6                     0\n",
       "PAY_AMT1                      0\n",
       "PAY_AMT2                      0\n",
       "PAY_AMT3                      0\n",
       "PAY_AMT4                      0\n",
       "PAY_AMT5                      0\n",
       "PAY_AMT6                      0\n",
       "default payment next month    0\n",
       "dtype: int64"
      ]
     },
     "execution_count": 5,
     "metadata": {},
     "output_type": "execute_result"
    }
   ],
   "source": [
    "df.isnull().sum()       # To check null Values"
   ]
  },
  {
   "cell_type": "code",
   "execution_count": 6,
   "metadata": {
    "scrolled": false
   },
   "outputs": [
    {
     "data": {
      "text/plain": [
       "0    23364\n",
       "1     6636\n",
       "Name: default payment next month, dtype: int64"
      ]
     },
     "execution_count": 6,
     "metadata": {},
     "output_type": "execute_result"
    }
   ],
   "source": [
    "df['default payment next month'].value_counts()                  "
   ]
  },
  {
   "cell_type": "code",
   "execution_count": 7,
   "metadata": {},
   "outputs": [
    {
     "data": {
      "text/html": [
       "<div>\n",
       "<style scoped>\n",
       "    .dataframe tbody tr th:only-of-type {\n",
       "        vertical-align: middle;\n",
       "    }\n",
       "\n",
       "    .dataframe tbody tr th {\n",
       "        vertical-align: top;\n",
       "    }\n",
       "\n",
       "    .dataframe thead th {\n",
       "        text-align: right;\n",
       "    }\n",
       "</style>\n",
       "<table border=\"1\" class=\"dataframe\">\n",
       "  <thead>\n",
       "    <tr style=\"text-align: right;\">\n",
       "      <th></th>\n",
       "      <th>ID</th>\n",
       "      <th>LIMIT_BAL</th>\n",
       "      <th>SEX</th>\n",
       "      <th>EDUCATION</th>\n",
       "      <th>MARRIAGE</th>\n",
       "      <th>AGE</th>\n",
       "      <th>PAY_0</th>\n",
       "      <th>PAY_2</th>\n",
       "      <th>PAY_3</th>\n",
       "      <th>PAY_4</th>\n",
       "      <th>...</th>\n",
       "      <th>BILL_AMT4</th>\n",
       "      <th>BILL_AMT5</th>\n",
       "      <th>BILL_AMT6</th>\n",
       "      <th>PAY_AMT1</th>\n",
       "      <th>PAY_AMT2</th>\n",
       "      <th>PAY_AMT3</th>\n",
       "      <th>PAY_AMT4</th>\n",
       "      <th>PAY_AMT5</th>\n",
       "      <th>PAY_AMT6</th>\n",
       "      <th>default payment next month</th>\n",
       "    </tr>\n",
       "  </thead>\n",
       "  <tbody>\n",
       "    <tr>\n",
       "      <th>count</th>\n",
       "      <td>30000.000000</td>\n",
       "      <td>30000.000000</td>\n",
       "      <td>30000.000000</td>\n",
       "      <td>30000.000000</td>\n",
       "      <td>30000.000000</td>\n",
       "      <td>30000.000000</td>\n",
       "      <td>30000.000000</td>\n",
       "      <td>30000.000000</td>\n",
       "      <td>30000.000000</td>\n",
       "      <td>30000.000000</td>\n",
       "      <td>...</td>\n",
       "      <td>30000.000000</td>\n",
       "      <td>30000.000000</td>\n",
       "      <td>30000.000000</td>\n",
       "      <td>30000.000000</td>\n",
       "      <td>3.000000e+04</td>\n",
       "      <td>30000.00000</td>\n",
       "      <td>30000.000000</td>\n",
       "      <td>30000.000000</td>\n",
       "      <td>30000.000000</td>\n",
       "      <td>30000.000000</td>\n",
       "    </tr>\n",
       "    <tr>\n",
       "      <th>mean</th>\n",
       "      <td>15000.500000</td>\n",
       "      <td>167484.322667</td>\n",
       "      <td>1.603733</td>\n",
       "      <td>1.853133</td>\n",
       "      <td>1.551867</td>\n",
       "      <td>35.485500</td>\n",
       "      <td>-0.016700</td>\n",
       "      <td>-0.133767</td>\n",
       "      <td>-0.166200</td>\n",
       "      <td>-0.220667</td>\n",
       "      <td>...</td>\n",
       "      <td>43262.948967</td>\n",
       "      <td>40311.400967</td>\n",
       "      <td>38871.760400</td>\n",
       "      <td>5663.580500</td>\n",
       "      <td>5.921163e+03</td>\n",
       "      <td>5225.68150</td>\n",
       "      <td>4826.076867</td>\n",
       "      <td>4799.387633</td>\n",
       "      <td>5215.502567</td>\n",
       "      <td>0.221200</td>\n",
       "    </tr>\n",
       "    <tr>\n",
       "      <th>std</th>\n",
       "      <td>8660.398374</td>\n",
       "      <td>129747.661567</td>\n",
       "      <td>0.489129</td>\n",
       "      <td>0.790349</td>\n",
       "      <td>0.521970</td>\n",
       "      <td>9.217904</td>\n",
       "      <td>1.123802</td>\n",
       "      <td>1.197186</td>\n",
       "      <td>1.196868</td>\n",
       "      <td>1.169139</td>\n",
       "      <td>...</td>\n",
       "      <td>64332.856134</td>\n",
       "      <td>60797.155770</td>\n",
       "      <td>59554.107537</td>\n",
       "      <td>16563.280354</td>\n",
       "      <td>2.304087e+04</td>\n",
       "      <td>17606.96147</td>\n",
       "      <td>15666.159744</td>\n",
       "      <td>15278.305679</td>\n",
       "      <td>17777.465775</td>\n",
       "      <td>0.415062</td>\n",
       "    </tr>\n",
       "    <tr>\n",
       "      <th>min</th>\n",
       "      <td>1.000000</td>\n",
       "      <td>10000.000000</td>\n",
       "      <td>1.000000</td>\n",
       "      <td>0.000000</td>\n",
       "      <td>0.000000</td>\n",
       "      <td>21.000000</td>\n",
       "      <td>-2.000000</td>\n",
       "      <td>-2.000000</td>\n",
       "      <td>-2.000000</td>\n",
       "      <td>-2.000000</td>\n",
       "      <td>...</td>\n",
       "      <td>-170000.000000</td>\n",
       "      <td>-81334.000000</td>\n",
       "      <td>-339603.000000</td>\n",
       "      <td>0.000000</td>\n",
       "      <td>0.000000e+00</td>\n",
       "      <td>0.00000</td>\n",
       "      <td>0.000000</td>\n",
       "      <td>0.000000</td>\n",
       "      <td>0.000000</td>\n",
       "      <td>0.000000</td>\n",
       "    </tr>\n",
       "    <tr>\n",
       "      <th>25%</th>\n",
       "      <td>7500.750000</td>\n",
       "      <td>50000.000000</td>\n",
       "      <td>1.000000</td>\n",
       "      <td>1.000000</td>\n",
       "      <td>1.000000</td>\n",
       "      <td>28.000000</td>\n",
       "      <td>-1.000000</td>\n",
       "      <td>-1.000000</td>\n",
       "      <td>-1.000000</td>\n",
       "      <td>-1.000000</td>\n",
       "      <td>...</td>\n",
       "      <td>2326.750000</td>\n",
       "      <td>1763.000000</td>\n",
       "      <td>1256.000000</td>\n",
       "      <td>1000.000000</td>\n",
       "      <td>8.330000e+02</td>\n",
       "      <td>390.00000</td>\n",
       "      <td>296.000000</td>\n",
       "      <td>252.500000</td>\n",
       "      <td>117.750000</td>\n",
       "      <td>0.000000</td>\n",
       "    </tr>\n",
       "    <tr>\n",
       "      <th>50%</th>\n",
       "      <td>15000.500000</td>\n",
       "      <td>140000.000000</td>\n",
       "      <td>2.000000</td>\n",
       "      <td>2.000000</td>\n",
       "      <td>2.000000</td>\n",
       "      <td>34.000000</td>\n",
       "      <td>0.000000</td>\n",
       "      <td>0.000000</td>\n",
       "      <td>0.000000</td>\n",
       "      <td>0.000000</td>\n",
       "      <td>...</td>\n",
       "      <td>19052.000000</td>\n",
       "      <td>18104.500000</td>\n",
       "      <td>17071.000000</td>\n",
       "      <td>2100.000000</td>\n",
       "      <td>2.009000e+03</td>\n",
       "      <td>1800.00000</td>\n",
       "      <td>1500.000000</td>\n",
       "      <td>1500.000000</td>\n",
       "      <td>1500.000000</td>\n",
       "      <td>0.000000</td>\n",
       "    </tr>\n",
       "    <tr>\n",
       "      <th>75%</th>\n",
       "      <td>22500.250000</td>\n",
       "      <td>240000.000000</td>\n",
       "      <td>2.000000</td>\n",
       "      <td>2.000000</td>\n",
       "      <td>2.000000</td>\n",
       "      <td>41.000000</td>\n",
       "      <td>0.000000</td>\n",
       "      <td>0.000000</td>\n",
       "      <td>0.000000</td>\n",
       "      <td>0.000000</td>\n",
       "      <td>...</td>\n",
       "      <td>54506.000000</td>\n",
       "      <td>50190.500000</td>\n",
       "      <td>49198.250000</td>\n",
       "      <td>5006.000000</td>\n",
       "      <td>5.000000e+03</td>\n",
       "      <td>4505.00000</td>\n",
       "      <td>4013.250000</td>\n",
       "      <td>4031.500000</td>\n",
       "      <td>4000.000000</td>\n",
       "      <td>0.000000</td>\n",
       "    </tr>\n",
       "    <tr>\n",
       "      <th>max</th>\n",
       "      <td>30000.000000</td>\n",
       "      <td>1000000.000000</td>\n",
       "      <td>2.000000</td>\n",
       "      <td>6.000000</td>\n",
       "      <td>3.000000</td>\n",
       "      <td>79.000000</td>\n",
       "      <td>8.000000</td>\n",
       "      <td>8.000000</td>\n",
       "      <td>8.000000</td>\n",
       "      <td>8.000000</td>\n",
       "      <td>...</td>\n",
       "      <td>891586.000000</td>\n",
       "      <td>927171.000000</td>\n",
       "      <td>961664.000000</td>\n",
       "      <td>873552.000000</td>\n",
       "      <td>1.684259e+06</td>\n",
       "      <td>896040.00000</td>\n",
       "      <td>621000.000000</td>\n",
       "      <td>426529.000000</td>\n",
       "      <td>528666.000000</td>\n",
       "      <td>1.000000</td>\n",
       "    </tr>\n",
       "  </tbody>\n",
       "</table>\n",
       "<p>8 rows × 25 columns</p>\n",
       "</div>"
      ],
      "text/plain": [
       "                 ID       LIMIT_BAL           SEX     EDUCATION      MARRIAGE  \\\n",
       "count  30000.000000    30000.000000  30000.000000  30000.000000  30000.000000   \n",
       "mean   15000.500000   167484.322667      1.603733      1.853133      1.551867   \n",
       "std     8660.398374   129747.661567      0.489129      0.790349      0.521970   \n",
       "min        1.000000    10000.000000      1.000000      0.000000      0.000000   \n",
       "25%     7500.750000    50000.000000      1.000000      1.000000      1.000000   \n",
       "50%    15000.500000   140000.000000      2.000000      2.000000      2.000000   \n",
       "75%    22500.250000   240000.000000      2.000000      2.000000      2.000000   \n",
       "max    30000.000000  1000000.000000      2.000000      6.000000      3.000000   \n",
       "\n",
       "                AGE         PAY_0         PAY_2         PAY_3         PAY_4  \\\n",
       "count  30000.000000  30000.000000  30000.000000  30000.000000  30000.000000   \n",
       "mean      35.485500     -0.016700     -0.133767     -0.166200     -0.220667   \n",
       "std        9.217904      1.123802      1.197186      1.196868      1.169139   \n",
       "min       21.000000     -2.000000     -2.000000     -2.000000     -2.000000   \n",
       "25%       28.000000     -1.000000     -1.000000     -1.000000     -1.000000   \n",
       "50%       34.000000      0.000000      0.000000      0.000000      0.000000   \n",
       "75%       41.000000      0.000000      0.000000      0.000000      0.000000   \n",
       "max       79.000000      8.000000      8.000000      8.000000      8.000000   \n",
       "\n",
       "       ...      BILL_AMT4      BILL_AMT5      BILL_AMT6       PAY_AMT1  \\\n",
       "count  ...   30000.000000   30000.000000   30000.000000   30000.000000   \n",
       "mean   ...   43262.948967   40311.400967   38871.760400    5663.580500   \n",
       "std    ...   64332.856134   60797.155770   59554.107537   16563.280354   \n",
       "min    ... -170000.000000  -81334.000000 -339603.000000       0.000000   \n",
       "25%    ...    2326.750000    1763.000000    1256.000000    1000.000000   \n",
       "50%    ...   19052.000000   18104.500000   17071.000000    2100.000000   \n",
       "75%    ...   54506.000000   50190.500000   49198.250000    5006.000000   \n",
       "max    ...  891586.000000  927171.000000  961664.000000  873552.000000   \n",
       "\n",
       "           PAY_AMT2      PAY_AMT3       PAY_AMT4       PAY_AMT5  \\\n",
       "count  3.000000e+04   30000.00000   30000.000000   30000.000000   \n",
       "mean   5.921163e+03    5225.68150    4826.076867    4799.387633   \n",
       "std    2.304087e+04   17606.96147   15666.159744   15278.305679   \n",
       "min    0.000000e+00       0.00000       0.000000       0.000000   \n",
       "25%    8.330000e+02     390.00000     296.000000     252.500000   \n",
       "50%    2.009000e+03    1800.00000    1500.000000    1500.000000   \n",
       "75%    5.000000e+03    4505.00000    4013.250000    4031.500000   \n",
       "max    1.684259e+06  896040.00000  621000.000000  426529.000000   \n",
       "\n",
       "            PAY_AMT6  default payment next month  \n",
       "count   30000.000000                30000.000000  \n",
       "mean     5215.502567                    0.221200  \n",
       "std     17777.465775                    0.415062  \n",
       "min         0.000000                    0.000000  \n",
       "25%       117.750000                    0.000000  \n",
       "50%      1500.000000                    0.000000  \n",
       "75%      4000.000000                    0.000000  \n",
       "max    528666.000000                    1.000000  \n",
       "\n",
       "[8 rows x 25 columns]"
      ]
     },
     "execution_count": 7,
     "metadata": {},
     "output_type": "execute_result"
    }
   ],
   "source": [
    "describe=df.describe()\n",
    "describe"
   ]
  },
  {
   "cell_type": "markdown",
   "metadata": {},
   "source": [
    "## Data Slicing (Dependent & Independent Variables)"
   ]
  },
  {
   "cell_type": "code",
   "execution_count": 8,
   "metadata": {},
   "outputs": [],
   "source": [
    "x=df.iloc[:,:-1].values\n",
    "y=df.iloc[:,-1].values"
   ]
  },
  {
   "cell_type": "code",
   "execution_count": 9,
   "metadata": {},
   "outputs": [
    {
     "data": {
      "text/plain": [
       "array([[     1,  20000,      2, ...,      0,      0,      0],\n",
       "       [     2, 120000,      2, ...,   1000,      0,   2000],\n",
       "       [     3,  90000,      2, ...,   1000,   1000,   5000],\n",
       "       ...,\n",
       "       [ 29998,  30000,      1, ...,   4200,   2000,   3100],\n",
       "       [ 29999,  80000,      1, ...,   1926,  52964,   1804],\n",
       "       [ 30000,  50000,      1, ...,   1000,   1000,   1000]], dtype=int64)"
      ]
     },
     "execution_count": 9,
     "metadata": {},
     "output_type": "execute_result"
    }
   ],
   "source": [
    "x"
   ]
  },
  {
   "cell_type": "code",
   "execution_count": 10,
   "metadata": {},
   "outputs": [
    {
     "data": {
      "text/plain": [
       "array([1, 1, 0, ..., 1, 1, 1], dtype=int64)"
      ]
     },
     "execution_count": 10,
     "metadata": {},
     "output_type": "execute_result"
    }
   ],
   "source": [
    "y"
   ]
  },
  {
   "cell_type": "markdown",
   "metadata": {},
   "source": [
    "## Imbalancing Technique (Using Smote Technique)"
   ]
  },
  {
   "cell_type": "code",
   "execution_count": 11,
   "metadata": {},
   "outputs": [],
   "source": [
    "from imblearn.over_sampling import SMOTE                 # Create artificial variable in minority counts\n",
    "sm = SMOTE()\n",
    "x_data, y_data = sm.fit_resample(x,y)"
   ]
  },
  {
   "cell_type": "code",
   "execution_count": 12,
   "metadata": {},
   "outputs": [
    {
     "name": "stdout",
     "output_type": "stream",
     "text": [
      "(46728, 24)\n",
      "(46728,)\n"
     ]
    }
   ],
   "source": [
    "print(x_data.shape)\n",
    "print(y_data.shape)"
   ]
  },
  {
   "cell_type": "markdown",
   "metadata": {},
   "source": [
    "## Counter Function (For check data is balanced or not)"
   ]
  },
  {
   "cell_type": "code",
   "execution_count": 13,
   "metadata": {},
   "outputs": [
    {
     "name": "stdout",
     "output_type": "stream",
     "text": [
      "Counter({0: 23364, 1: 6636})\n",
      "Counter({1: 23364, 0: 23364})\n"
     ]
    }
   ],
   "source": [
    "from collections import Counter\n",
    "print(Counter(y))\n",
    "print(Counter(y_data))"
   ]
  },
  {
   "cell_type": "code",
   "execution_count": 14,
   "metadata": {},
   "outputs": [
    {
     "data": {
      "text/plain": [
       "<AxesSubplot:>"
      ]
     },
     "execution_count": 14,
     "metadata": {},
     "output_type": "execute_result"
    },
    {
     "data": {
      "image/png": "[encoded data removed]",
      "text/plain": [
       "<Figure size 1080x1440 with 1 Axes>"
      ]
     },
     "metadata": {},
     "output_type": "display_data"
    }
   ],
   "source": [
    "sns.set(style='whitegrid',rc={\"figure.figsize\":(15, 20)})\n",
    "sns.boxplot(data=df)"
   ]
  },
  {
   "cell_type": "markdown",
   "metadata": {},
   "source": [
    "## Apply Feature Scaling (Using Standard Scaler)"
   ]
  },
  {
   "cell_type": "code",
   "execution_count": 15,
   "metadata": {},
   "outputs": [],
   "source": [
    "from sklearn.preprocessing import StandardScaler             # to Standardize independent Features    \n",
    "std = StandardScaler()"
   ]
  },
  {
   "cell_type": "code",
   "execution_count": 16,
   "metadata": {
    "scrolled": true
   },
   "outputs": [
    {
     "data": {
      "text/plain": [
       "array([[-1.76734663, -1.06822934,  0.98762155, ..., -0.30285434,\n",
       "        -0.30052818, -0.28549971],\n",
       "       [-1.76722808, -0.27426316,  0.98762155, ..., -0.2293392 ,\n",
       "        -0.30052818, -0.15754694],\n",
       "       [-1.76710952, -0.51245301,  0.98762155, ..., -0.2293392 ,\n",
       "        -0.22798412,  0.03438222],\n",
       "       ...,\n",
       "       [-0.47614053, -0.19486654, -1.0125336 , ..., -0.05113848,\n",
       "        -0.05409599, -0.03739929],\n",
       "       [-0.92001856, -0.83003948, -1.0125336 , ..., -0.25830416,\n",
       "        -0.27927277, -0.26585896],\n",
       "       [ 0.23615093,  1.74519776, -1.0125336 , ...,  0.34275567,\n",
       "         0.32516438,  0.05837336]])"
      ]
     },
     "execution_count": 16,
     "metadata": {},
     "output_type": "execute_result"
    }
   ],
   "source": [
    "x_data1 = std.fit_transform(x_data)\n",
    "x_data1"
   ]
  },
  {
   "cell_type": "markdown",
   "metadata": {},
   "source": [
    "## Detecting Outliers and Eliminate them"
   ]
  },
  {
   "cell_type": "code",
   "execution_count": 17,
   "metadata": {},
   "outputs": [
    {
     "data": {
      "text/plain": [
       "[(-5.0, 5.0)]"
      ]
     },
     "execution_count": 17,
     "metadata": {},
     "output_type": "execute_result"
    },
    {
     "data": {
      "image/png": "[encoded data removed]",
      "text/plain": [
       "<Figure size 1080x720 with 1 Axes>"
      ]
     },
     "metadata": {},
     "output_type": "display_data"
    }
   ],
   "source": [
    "import matplotlib as plt\n",
    "sns.set(style='whitegrid',rc={\"figure.figsize\":(15, 10)})\n",
    "bx=sns.boxplot(data=x_data1)\n",
    "bx.set(ylim=(-5,5))"
   ]
  },
  {
   "cell_type": "markdown",
   "metadata": {},
   "source": [
    "#### concatenation of scaled data x_data1 and y_data"
   ]
  },
  {
   "cell_type": "code",
   "execution_count": 18,
   "metadata": {},
   "outputs": [],
   "source": [
    "scaled_xy=[]\n",
    "j=0\n",
    "for i in range(len(y_data)):\n",
    "    x_data1_temp=list(x_data1[i])\n",
    "    x_data1_temp.append(y_data[j])\n",
    "    j=j+1\n",
    "    scaled_xy.append(x_data1_temp)"
   ]
  },
  {
   "cell_type": "code",
   "execution_count": 19,
   "metadata": {},
   "outputs": [
    {
     "data": {
      "text/plain": [
       "(46728, 25)"
      ]
     },
     "execution_count": 19,
     "metadata": {},
     "output_type": "execute_result"
    }
   ],
   "source": [
    "np.array(scaled_xy).shape"
   ]
  },
  {
   "cell_type": "code",
   "execution_count": 20,
   "metadata": {},
   "outputs": [
    {
     "data": {
      "text/html": [
       "<div>\n",
       "<style scoped>\n",
       "    .dataframe tbody tr th:only-of-type {\n",
       "        vertical-align: middle;\n",
       "    }\n",
       "\n",
       "    .dataframe tbody tr th {\n",
       "        vertical-align: top;\n",
       "    }\n",
       "\n",
       "    .dataframe thead th {\n",
       "        text-align: right;\n",
       "    }\n",
       "</style>\n",
       "<table border=\"1\" class=\"dataframe\">\n",
       "  <thead>\n",
       "    <tr style=\"text-align: right;\">\n",
       "      <th></th>\n",
       "      <th>ID</th>\n",
       "      <th>LIMIT_BAL</th>\n",
       "      <th>SEX</th>\n",
       "      <th>EDUCATION</th>\n",
       "      <th>MARRIAGE</th>\n",
       "      <th>AGE</th>\n",
       "      <th>PAY_0</th>\n",
       "      <th>PAY_2</th>\n",
       "      <th>PAY_3</th>\n",
       "      <th>PAY_4</th>\n",
       "      <th>...</th>\n",
       "      <th>BILL_AMT4</th>\n",
       "      <th>BILL_AMT5</th>\n",
       "      <th>BILL_AMT6</th>\n",
       "      <th>PAY_AMT1</th>\n",
       "      <th>PAY_AMT2</th>\n",
       "      <th>PAY_AMT3</th>\n",
       "      <th>PAY_AMT4</th>\n",
       "      <th>PAY_AMT5</th>\n",
       "      <th>PAY_AMT6</th>\n",
       "      <th>default payment next month</th>\n",
       "    </tr>\n",
       "  </thead>\n",
       "  <tbody>\n",
       "    <tr>\n",
       "      <th>0</th>\n",
       "      <td>-1.767347</td>\n",
       "      <td>-1.068229</td>\n",
       "      <td>0.987622</td>\n",
       "      <td>0.319758</td>\n",
       "      <td>-0.881447</td>\n",
       "      <td>-1.294767</td>\n",
       "      <td>1.638751</td>\n",
       "      <td>1.628384</td>\n",
       "      <td>-0.821345</td>\n",
       "      <td>-0.776386</td>\n",
       "      <td>...</td>\n",
       "      <td>-0.667772</td>\n",
       "      <td>-0.658567</td>\n",
       "      <td>-0.652232</td>\n",
       "      <td>-0.339839</td>\n",
       "      <td>-0.218676</td>\n",
       "      <td>-0.283786</td>\n",
       "      <td>-0.302854</td>\n",
       "      <td>-0.300528</td>\n",
       "      <td>-0.285500</td>\n",
       "      <td>1</td>\n",
       "    </tr>\n",
       "    <tr>\n",
       "      <th>1</th>\n",
       "      <td>-1.767228</td>\n",
       "      <td>-0.274263</td>\n",
       "      <td>0.987622</td>\n",
       "      <td>0.319758</td>\n",
       "      <td>1.061028</td>\n",
       "      <td>-1.067999</td>\n",
       "      <td>-1.046792</td>\n",
       "      <td>1.628384</td>\n",
       "      <td>0.010071</td>\n",
       "      <td>0.058419</td>\n",
       "      <td>...</td>\n",
       "      <td>-0.617239</td>\n",
       "      <td>-0.602332</td>\n",
       "      <td>-0.597852</td>\n",
       "      <td>-0.339839</td>\n",
       "      <td>-0.202477</td>\n",
       "      <td>-0.220196</td>\n",
       "      <td>-0.229339</td>\n",
       "      <td>-0.300528</td>\n",
       "      <td>-0.157547</td>\n",
       "      <td>1</td>\n",
       "    </tr>\n",
       "    <tr>\n",
       "      <th>2</th>\n",
       "      <td>-1.767110</td>\n",
       "      <td>-0.512453</td>\n",
       "      <td>0.987622</td>\n",
       "      <td>0.319758</td>\n",
       "      <td>1.061028</td>\n",
       "      <td>-0.160926</td>\n",
       "      <td>-0.151611</td>\n",
       "      <td>-0.030260</td>\n",
       "      <td>0.010071</td>\n",
       "      <td>0.058419</td>\n",
       "      <td>...</td>\n",
       "      <td>-0.446442</td>\n",
       "      <td>-0.415268</td>\n",
       "      <td>-0.392938</td>\n",
       "      <td>-0.231975</td>\n",
       "      <td>-0.176435</td>\n",
       "      <td>-0.220196</td>\n",
       "      <td>-0.229339</td>\n",
       "      <td>-0.227984</td>\n",
       "      <td>0.034382</td>\n",
       "      <td>0</td>\n",
       "    </tr>\n",
       "    <tr>\n",
       "      <th>3</th>\n",
       "      <td>-1.766991</td>\n",
       "      <td>-0.830039</td>\n",
       "      <td>0.987622</td>\n",
       "      <td>0.319758</td>\n",
       "      <td>-0.881447</td>\n",
       "      <td>0.179226</td>\n",
       "      <td>-0.151611</td>\n",
       "      <td>-0.030260</td>\n",
       "      <td>0.010071</td>\n",
       "      <td>0.058419</td>\n",
       "      <td>...</td>\n",
       "      <td>-0.230487</td>\n",
       "      <td>-0.187220</td>\n",
       "      <td>-0.159508</td>\n",
       "      <td>-0.197726</td>\n",
       "      <td>-0.149402</td>\n",
       "      <td>-0.207478</td>\n",
       "      <td>-0.221988</td>\n",
       "      <td>-0.222979</td>\n",
       "      <td>-0.221523</td>\n",
       "      <td>0</td>\n",
       "    </tr>\n",
       "    <tr>\n",
       "      <th>4</th>\n",
       "      <td>-1.766872</td>\n",
       "      <td>-0.830039</td>\n",
       "      <td>-1.012534</td>\n",
       "      <td>0.319758</td>\n",
       "      <td>-0.881447</td>\n",
       "      <td>2.446908</td>\n",
       "      <td>-1.046792</td>\n",
       "      <td>-0.030260</td>\n",
       "      <td>-0.821345</td>\n",
       "      <td>0.058419</td>\n",
       "      <td>...</td>\n",
       "      <td>-0.344372</td>\n",
       "      <td>-0.346940</td>\n",
       "      <td>-0.333205</td>\n",
       "      <td>-0.197726</td>\n",
       "      <td>1.655981</td>\n",
       "      <td>0.352117</td>\n",
       "      <td>0.358782</td>\n",
       "      <td>-0.250545</td>\n",
       "      <td>-0.242060</td>\n",
       "      <td>0</td>\n",
       "    </tr>\n",
       "    <tr>\n",
       "      <th>...</th>\n",
       "      <td>...</td>\n",
       "      <td>...</td>\n",
       "      <td>...</td>\n",
       "      <td>...</td>\n",
       "      <td>...</td>\n",
       "      <td>...</td>\n",
       "      <td>...</td>\n",
       "      <td>...</td>\n",
       "      <td>...</td>\n",
       "      <td>...</td>\n",
       "      <td>...</td>\n",
       "      <td>...</td>\n",
       "      <td>...</td>\n",
       "      <td>...</td>\n",
       "      <td>...</td>\n",
       "      <td>...</td>\n",
       "      <td>...</td>\n",
       "      <td>...</td>\n",
       "      <td>...</td>\n",
       "      <td>...</td>\n",
       "      <td>...</td>\n",
       "    </tr>\n",
       "    <tr>\n",
       "      <th>46723</th>\n",
       "      <td>1.645084</td>\n",
       "      <td>-0.376637</td>\n",
       "      <td>-1.012534</td>\n",
       "      <td>0.319758</td>\n",
       "      <td>-0.881447</td>\n",
       "      <td>0.065842</td>\n",
       "      <td>1.638751</td>\n",
       "      <td>1.628384</td>\n",
       "      <td>1.672901</td>\n",
       "      <td>1.728031</td>\n",
       "      <td>...</td>\n",
       "      <td>0.675559</td>\n",
       "      <td>0.740075</td>\n",
       "      <td>0.771677</td>\n",
       "      <td>0.108955</td>\n",
       "      <td>-0.003928</td>\n",
       "      <td>-0.148275</td>\n",
       "      <td>-0.072899</td>\n",
       "      <td>-0.072450</td>\n",
       "      <td>-0.085829</td>\n",
       "      <td>1</td>\n",
       "    </tr>\n",
       "    <tr>\n",
       "      <th>46724</th>\n",
       "      <td>1.504594</td>\n",
       "      <td>-1.068229</td>\n",
       "      <td>-1.012534</td>\n",
       "      <td>0.319758</td>\n",
       "      <td>1.061028</td>\n",
       "      <td>-1.521535</td>\n",
       "      <td>1.638751</td>\n",
       "      <td>1.628384</td>\n",
       "      <td>0.010071</td>\n",
       "      <td>0.058419</td>\n",
       "      <td>...</td>\n",
       "      <td>-0.422936</td>\n",
       "      <td>-0.369304</td>\n",
       "      <td>-0.362938</td>\n",
       "      <td>-0.339839</td>\n",
       "      <td>-0.171695</td>\n",
       "      <td>-0.188528</td>\n",
       "      <td>-0.119508</td>\n",
       "      <td>-0.300528</td>\n",
       "      <td>-0.221203</td>\n",
       "      <td>1</td>\n",
       "    </tr>\n",
       "    <tr>\n",
       "      <th>46725</th>\n",
       "      <td>-0.476141</td>\n",
       "      <td>-0.194867</td>\n",
       "      <td>-1.012534</td>\n",
       "      <td>0.319758</td>\n",
       "      <td>-0.881447</td>\n",
       "      <td>0.065842</td>\n",
       "      <td>1.638751</td>\n",
       "      <td>1.628384</td>\n",
       "      <td>0.010071</td>\n",
       "      <td>0.058419</td>\n",
       "      <td>...</td>\n",
       "      <td>0.885476</td>\n",
       "      <td>0.880003</td>\n",
       "      <td>0.857174</td>\n",
       "      <td>-0.339839</td>\n",
       "      <td>0.076492</td>\n",
       "      <td>-0.026627</td>\n",
       "      <td>-0.051138</td>\n",
       "      <td>-0.054096</td>\n",
       "      <td>-0.037399</td>\n",
       "      <td>1</td>\n",
       "    </tr>\n",
       "    <tr>\n",
       "      <th>46726</th>\n",
       "      <td>-0.920019</td>\n",
       "      <td>-0.830039</td>\n",
       "      <td>-1.012534</td>\n",
       "      <td>-1.041047</td>\n",
       "      <td>1.061028</td>\n",
       "      <td>-1.294767</td>\n",
       "      <td>0.743570</td>\n",
       "      <td>-0.030260</td>\n",
       "      <td>0.010071</td>\n",
       "      <td>0.058419</td>\n",
       "      <td>...</td>\n",
       "      <td>-0.537424</td>\n",
       "      <td>-0.513366</td>\n",
       "      <td>-0.515623</td>\n",
       "      <td>-0.167171</td>\n",
       "      <td>-0.155444</td>\n",
       "      <td>-0.245696</td>\n",
       "      <td>-0.258304</td>\n",
       "      <td>-0.279273</td>\n",
       "      <td>-0.265859</td>\n",
       "      <td>1</td>\n",
       "    </tr>\n",
       "    <tr>\n",
       "      <th>46727</th>\n",
       "      <td>0.236151</td>\n",
       "      <td>1.745198</td>\n",
       "      <td>-1.012534</td>\n",
       "      <td>0.319758</td>\n",
       "      <td>-0.881447</td>\n",
       "      <td>0.179226</td>\n",
       "      <td>-0.151611</td>\n",
       "      <td>-0.030260</td>\n",
       "      <td>0.010071</td>\n",
       "      <td>0.058419</td>\n",
       "      <td>...</td>\n",
       "      <td>2.712904</td>\n",
       "      <td>2.869216</td>\n",
       "      <td>2.973252</td>\n",
       "      <td>10.456870</td>\n",
       "      <td>0.250509</td>\n",
       "      <td>0.226653</td>\n",
       "      <td>0.342756</td>\n",
       "      <td>0.325164</td>\n",
       "      <td>0.058373</td>\n",
       "      <td>1</td>\n",
       "    </tr>\n",
       "  </tbody>\n",
       "</table>\n",
       "<p>46728 rows × 25 columns</p>\n",
       "</div>"
      ],
      "text/plain": [
       "             ID  LIMIT_BAL       SEX  EDUCATION  MARRIAGE       AGE     PAY_0  \\\n",
       "0     -1.767347  -1.068229  0.987622   0.319758 -0.881447 -1.294767  1.638751   \n",
       "1     -1.767228  -0.274263  0.987622   0.319758  1.061028 -1.067999 -1.046792   \n",
       "2     -1.767110  -0.512453  0.987622   0.319758  1.061028 -0.160926 -0.151611   \n",
       "3     -1.766991  -0.830039  0.987622   0.319758 -0.881447  0.179226 -0.151611   \n",
       "4     -1.766872  -0.830039 -1.012534   0.319758 -0.881447  2.446908 -1.046792   \n",
       "...         ...        ...       ...        ...       ...       ...       ...   \n",
       "46723  1.645084  -0.376637 -1.012534   0.319758 -0.881447  0.065842  1.638751   \n",
       "46724  1.504594  -1.068229 -1.012534   0.319758  1.061028 -1.521535  1.638751   \n",
       "46725 -0.476141  -0.194867 -1.012534   0.319758 -0.881447  0.065842  1.638751   \n",
       "46726 -0.920019  -0.830039 -1.012534  -1.041047  1.061028 -1.294767  0.743570   \n",
       "46727  0.236151   1.745198 -1.012534   0.319758 -0.881447  0.179226 -0.151611   \n",
       "\n",
       "          PAY_2     PAY_3     PAY_4  ...  BILL_AMT4  BILL_AMT5  BILL_AMT6  \\\n",
       "0      1.628384 -0.821345 -0.776386  ...  -0.667772  -0.658567  -0.652232   \n",
       "1      1.628384  0.010071  0.058419  ...  -0.617239  -0.602332  -0.597852   \n",
       "2     -0.030260  0.010071  0.058419  ...  -0.446442  -0.415268  -0.392938   \n",
       "3     -0.030260  0.010071  0.058419  ...  -0.230487  -0.187220  -0.159508   \n",
       "4     -0.030260 -0.821345  0.058419  ...  -0.344372  -0.346940  -0.333205   \n",
       "...         ...       ...       ...  ...        ...        ...        ...   \n",
       "46723  1.628384  1.672901  1.728031  ...   0.675559   0.740075   0.771677   \n",
       "46724  1.628384  0.010071  0.058419  ...  -0.422936  -0.369304  -0.362938   \n",
       "46725  1.628384  0.010071  0.058419  ...   0.885476   0.880003   0.857174   \n",
       "46726 -0.030260  0.010071  0.058419  ...  -0.537424  -0.513366  -0.515623   \n",
       "46727 -0.030260  0.010071  0.058419  ...   2.712904   2.869216   2.973252   \n",
       "\n",
       "        PAY_AMT1  PAY_AMT2  PAY_AMT3  PAY_AMT4  PAY_AMT5  PAY_AMT6  \\\n",
       "0      -0.339839 -0.218676 -0.283786 -0.302854 -0.300528 -0.285500   \n",
       "1      -0.339839 -0.202477 -0.220196 -0.229339 -0.300528 -0.157547   \n",
       "2      -0.231975 -0.176435 -0.220196 -0.229339 -0.227984  0.034382   \n",
       "3      -0.197726 -0.149402 -0.207478 -0.221988 -0.222979 -0.221523   \n",
       "4      -0.197726  1.655981  0.352117  0.358782 -0.250545 -0.242060   \n",
       "...          ...       ...       ...       ...       ...       ...   \n",
       "46723   0.108955 -0.003928 -0.148275 -0.072899 -0.072450 -0.085829   \n",
       "46724  -0.339839 -0.171695 -0.188528 -0.119508 -0.300528 -0.221203   \n",
       "46725  -0.339839  0.076492 -0.026627 -0.051138 -0.054096 -0.037399   \n",
       "46726  -0.167171 -0.155444 -0.245696 -0.258304 -0.279273 -0.265859   \n",
       "46727  10.456870  0.250509  0.226653  0.342756  0.325164  0.058373   \n",
       "\n",
       "       default payment next month  \n",
       "0                               1  \n",
       "1                               1  \n",
       "2                               0  \n",
       "3                               0  \n",
       "4                               0  \n",
       "...                           ...  \n",
       "46723                           1  \n",
       "46724                           1  \n",
       "46725                           1  \n",
       "46726                           1  \n",
       "46727                           1  \n",
       "\n",
       "[46728 rows x 25 columns]"
      ]
     },
     "execution_count": 20,
     "metadata": {},
     "output_type": "execute_result"
    }
   ],
   "source": [
    "scaled_xy_df=pd.DataFrame(scaled_xy, columns=df.columns)\n",
    "scaled_xy_df"
   ]
  },
  {
   "cell_type": "code",
   "execution_count": 21,
   "metadata": {},
   "outputs": [
    {
     "data": {
      "text/plain": [
       "Index(['ID', 'LIMIT_BAL', 'SEX', 'EDUCATION', 'MARRIAGE', 'AGE', 'PAY_0',\n",
       "       'PAY_2', 'PAY_3', 'PAY_4', 'PAY_5', 'PAY_6', 'BILL_AMT1', 'BILL_AMT2',\n",
       "       'BILL_AMT3', 'BILL_AMT4', 'BILL_AMT5', 'BILL_AMT6', 'PAY_AMT1',\n",
       "       'PAY_AMT2', 'PAY_AMT3', 'PAY_AMT4', 'PAY_AMT5', 'PAY_AMT6',\n",
       "       'default payment next month'],\n",
       "      dtype='object')"
      ]
     },
     "execution_count": 21,
     "metadata": {},
     "output_type": "execute_result"
    }
   ],
   "source": [
    "df.columns"
   ]
  },
  {
   "cell_type": "code",
   "execution_count": 22,
   "metadata": {},
   "outputs": [
    {
     "name": "stdout",
     "output_type": "stream",
     "text": [
      "(46728, 24)\n",
      "(46728, 25)\n"
     ]
    }
   ],
   "source": [
    "print(x_data1.shape)\n",
    "print(scaled_xy_df.shape)"
   ]
  },
  {
   "cell_type": "code",
   "execution_count": 23,
   "metadata": {
    "scrolled": true
   },
   "outputs": [
    {
     "data": {
      "text/html": [
       "<div>\n",
       "<style scoped>\n",
       "    .dataframe tbody tr th:only-of-type {\n",
       "        vertical-align: middle;\n",
       "    }\n",
       "\n",
       "    .dataframe tbody tr th {\n",
       "        vertical-align: top;\n",
       "    }\n",
       "\n",
       "    .dataframe thead th {\n",
       "        text-align: right;\n",
       "    }\n",
       "</style>\n",
       "<table border=\"1\" class=\"dataframe\">\n",
       "  <thead>\n",
       "    <tr style=\"text-align: right;\">\n",
       "      <th></th>\n",
       "      <th>ID</th>\n",
       "      <th>LIMIT_BAL</th>\n",
       "      <th>SEX</th>\n",
       "      <th>EDUCATION</th>\n",
       "      <th>MARRIAGE</th>\n",
       "      <th>AGE</th>\n",
       "      <th>PAY_0</th>\n",
       "      <th>PAY_2</th>\n",
       "      <th>PAY_3</th>\n",
       "      <th>PAY_4</th>\n",
       "      <th>...</th>\n",
       "      <th>BILL_AMT4</th>\n",
       "      <th>BILL_AMT5</th>\n",
       "      <th>BILL_AMT6</th>\n",
       "      <th>PAY_AMT1</th>\n",
       "      <th>PAY_AMT2</th>\n",
       "      <th>PAY_AMT3</th>\n",
       "      <th>PAY_AMT4</th>\n",
       "      <th>PAY_AMT5</th>\n",
       "      <th>PAY_AMT6</th>\n",
       "      <th>default payment next month</th>\n",
       "    </tr>\n",
       "  </thead>\n",
       "  <tbody>\n",
       "    <tr>\n",
       "      <th>count</th>\n",
       "      <td>4.672800e+04</td>\n",
       "      <td>4.672800e+04</td>\n",
       "      <td>4.672800e+04</td>\n",
       "      <td>4.672800e+04</td>\n",
       "      <td>4.672800e+04</td>\n",
       "      <td>4.672800e+04</td>\n",
       "      <td>4.672800e+04</td>\n",
       "      <td>4.672800e+04</td>\n",
       "      <td>4.672800e+04</td>\n",
       "      <td>4.672800e+04</td>\n",
       "      <td>...</td>\n",
       "      <td>4.672800e+04</td>\n",
       "      <td>4.672800e+04</td>\n",
       "      <td>4.672800e+04</td>\n",
       "      <td>4.672800e+04</td>\n",
       "      <td>4.672800e+04</td>\n",
       "      <td>4.672800e+04</td>\n",
       "      <td>4.672800e+04</td>\n",
       "      <td>4.672800e+04</td>\n",
       "      <td>4.672800e+04</td>\n",
       "      <td>46728.000000</td>\n",
       "    </tr>\n",
       "    <tr>\n",
       "      <th>mean</th>\n",
       "      <td>-1.270075e-16</td>\n",
       "      <td>1.746639e-15</td>\n",
       "      <td>4.604022e-14</td>\n",
       "      <td>2.250691e-14</td>\n",
       "      <td>-4.737763e-14</td>\n",
       "      <td>4.884608e-17</td>\n",
       "      <td>-1.423651e-14</td>\n",
       "      <td>-4.878147e-14</td>\n",
       "      <td>2.713523e-15</td>\n",
       "      <td>2.950699e-14</td>\n",
       "      <td>...</td>\n",
       "      <td>-6.769966e-16</td>\n",
       "      <td>-4.058273e-16</td>\n",
       "      <td>8.430833e-16</td>\n",
       "      <td>1.439051e-15</td>\n",
       "      <td>1.113210e-15</td>\n",
       "      <td>-1.436978e-16</td>\n",
       "      <td>8.807548e-16</td>\n",
       "      <td>3.179382e-15</td>\n",
       "      <td>1.012730e-15</td>\n",
       "      <td>0.500000</td>\n",
       "    </tr>\n",
       "    <tr>\n",
       "      <th>std</th>\n",
       "      <td>1.000011e+00</td>\n",
       "      <td>1.000011e+00</td>\n",
       "      <td>1.000011e+00</td>\n",
       "      <td>1.000011e+00</td>\n",
       "      <td>1.000011e+00</td>\n",
       "      <td>1.000011e+00</td>\n",
       "      <td>1.000011e+00</td>\n",
       "      <td>1.000011e+00</td>\n",
       "      <td>1.000011e+00</td>\n",
       "      <td>1.000011e+00</td>\n",
       "      <td>...</td>\n",
       "      <td>1.000011e+00</td>\n",
       "      <td>1.000011e+00</td>\n",
       "      <td>1.000011e+00</td>\n",
       "      <td>1.000011e+00</td>\n",
       "      <td>1.000011e+00</td>\n",
       "      <td>1.000011e+00</td>\n",
       "      <td>1.000011e+00</td>\n",
       "      <td>1.000011e+00</td>\n",
       "      <td>1.000011e+00</td>\n",
       "      <td>0.500005</td>\n",
       "    </tr>\n",
       "    <tr>\n",
       "      <th>min</th>\n",
       "      <td>-1.767347e+00</td>\n",
       "      <td>-1.147626e+00</td>\n",
       "      <td>-1.012534e+00</td>\n",
       "      <td>-2.401853e+00</td>\n",
       "      <td>-2.823922e+00</td>\n",
       "      <td>-1.634919e+00</td>\n",
       "      <td>-1.941973e+00</td>\n",
       "      <td>-1.688905e+00</td>\n",
       "      <td>-1.652760e+00</td>\n",
       "      <td>-1.611192e+00</td>\n",
       "      <td>...</td>\n",
       "      <td>-3.293276e+00</td>\n",
       "      <td>-1.982387e+00</td>\n",
       "      <td>-6.315433e+00</td>\n",
       "      <td>-3.398389e-01</td>\n",
       "      <td>-2.545627e-01</td>\n",
       "      <td>-2.837862e-01</td>\n",
       "      <td>-3.028543e-01</td>\n",
       "      <td>-3.005282e-01</td>\n",
       "      <td>-2.854997e-01</td>\n",
       "      <td>0.000000</td>\n",
       "    </tr>\n",
       "    <tr>\n",
       "      <th>25%</th>\n",
       "      <td>-8.583688e-01</td>\n",
       "      <td>-8.300395e-01</td>\n",
       "      <td>-1.012534e+00</td>\n",
       "      <td>-1.041047e+00</td>\n",
       "      <td>-8.814466e-01</td>\n",
       "      <td>-8.412306e-01</td>\n",
       "      <td>-1.516107e-01</td>\n",
       "      <td>-8.595823e-01</td>\n",
       "      <td>-8.213446e-01</td>\n",
       "      <td>-7.763865e-01</td>\n",
       "      <td>...</td>\n",
       "      <td>-6.339033e-01</td>\n",
       "      <td>-6.311250e-01</td>\n",
       "      <td>-6.305533e-01</td>\n",
       "      <td>-2.959436e-01</td>\n",
       "      <td>-2.237281e-01</td>\n",
       "      <td>-2.620383e-01</td>\n",
       "      <td>-2.834463e-01</td>\n",
       "      <td>-2.823196e-01</td>\n",
       "      <td>-2.732162e-01</td>\n",
       "      <td>0.000000</td>\n",
       "    </tr>\n",
       "    <tr>\n",
       "      <th>50%</th>\n",
       "      <td>-7.262920e-04</td>\n",
       "      <td>-2.742632e-01</td>\n",
       "      <td>9.876215e-01</td>\n",
       "      <td>3.197578e-01</td>\n",
       "      <td>-8.814466e-01</td>\n",
       "      <td>-1.609259e-01</td>\n",
       "      <td>-1.516107e-01</td>\n",
       "      <td>-3.026011e-02</td>\n",
       "      <td>1.007064e-02</td>\n",
       "      <td>5.841925e-02</td>\n",
       "      <td>...</td>\n",
       "      <td>-3.725885e-01</td>\n",
       "      <td>-3.586509e-01</td>\n",
       "      <td>-3.582685e-01</td>\n",
       "      <td>-1.977255e-01</td>\n",
       "      <td>-1.514857e-01</td>\n",
       "      <td>-1.859207e-01</td>\n",
       "      <td>-2.095636e-01</td>\n",
       "      <td>-2.036819e-01</td>\n",
       "      <td>-2.040578e-01</td>\n",
       "      <td>0.500000</td>\n",
       "    </tr>\n",
       "    <tr>\n",
       "      <th>75%</th>\n",
       "      <td>8.502771e-01</td>\n",
       "      <td>5.197030e-01</td>\n",
       "      <td>9.876215e-01</td>\n",
       "      <td>3.197578e-01</td>\n",
       "      <td>1.061028e+00</td>\n",
       "      <td>6.327628e-01</td>\n",
       "      <td>7.435704e-01</td>\n",
       "      <td>-3.026011e-02</td>\n",
       "      <td>1.007064e-02</td>\n",
       "      <td>5.841925e-02</td>\n",
       "      <td>...</td>\n",
       "      <td>1.507864e-01</td>\n",
       "      <td>1.473114e-01</td>\n",
       "      <td>1.614707e-01</td>\n",
       "      <td>-2.008380e-02</td>\n",
       "      <td>-3.215808e-02</td>\n",
       "      <td>-3.812086e-02</td>\n",
       "      <td>-4.547782e-02</td>\n",
       "      <td>-4.355897e-02</td>\n",
       "      <td>-6.158236e-02</td>\n",
       "      <td>1.000000</td>\n",
       "    </tr>\n",
       "    <tr>\n",
       "      <th>max</th>\n",
       "      <td>1.789250e+00</td>\n",
       "      <td>6.712639e+00</td>\n",
       "      <td>9.876215e-01</td>\n",
       "      <td>5.762978e+00</td>\n",
       "      <td>3.003503e+00</td>\n",
       "      <td>4.941359e+00</td>\n",
       "      <td>7.009838e+00</td>\n",
       "      <td>6.604318e+00</td>\n",
       "      <td>6.661393e+00</td>\n",
       "      <td>6.736865e+00</td>\n",
       "      <td>...</td>\n",
       "      <td>1.310201e+01</td>\n",
       "      <td>1.443238e+01</td>\n",
       "      <td>1.538442e+01</td>\n",
       "      <td>6.173188e+01</td>\n",
       "      <td>8.747072e+01</td>\n",
       "      <td>5.669569e+01</td>\n",
       "      <td>4.535005e+01</td>\n",
       "      <td>3.064162e+01</td>\n",
       "      <td>3.353664e+01</td>\n",
       "      <td>1.000000</td>\n",
       "    </tr>\n",
       "  </tbody>\n",
       "</table>\n",
       "<p>8 rows × 25 columns</p>\n",
       "</div>"
      ],
      "text/plain": [
       "                 ID     LIMIT_BAL           SEX     EDUCATION      MARRIAGE  \\\n",
       "count  4.672800e+04  4.672800e+04  4.672800e+04  4.672800e+04  4.672800e+04   \n",
       "mean  -1.270075e-16  1.746639e-15  4.604022e-14  2.250691e-14 -4.737763e-14   \n",
       "std    1.000011e+00  1.000011e+00  1.000011e+00  1.000011e+00  1.000011e+00   \n",
       "min   -1.767347e+00 -1.147626e+00 -1.012534e+00 -2.401853e+00 -2.823922e+00   \n",
       "25%   -8.583688e-01 -8.300395e-01 -1.012534e+00 -1.041047e+00 -8.814466e-01   \n",
       "50%   -7.262920e-04 -2.742632e-01  9.876215e-01  3.197578e-01 -8.814466e-01   \n",
       "75%    8.502771e-01  5.197030e-01  9.876215e-01  3.197578e-01  1.061028e+00   \n",
       "max    1.789250e+00  6.712639e+00  9.876215e-01  5.762978e+00  3.003503e+00   \n",
       "\n",
       "                AGE         PAY_0         PAY_2         PAY_3         PAY_4  \\\n",
       "count  4.672800e+04  4.672800e+04  4.672800e+04  4.672800e+04  4.672800e+04   \n",
       "mean   4.884608e-17 -1.423651e-14 -4.878147e-14  2.713523e-15  2.950699e-14   \n",
       "std    1.000011e+00  1.000011e+00  1.000011e+00  1.000011e+00  1.000011e+00   \n",
       "min   -1.634919e+00 -1.941973e+00 -1.688905e+00 -1.652760e+00 -1.611192e+00   \n",
       "25%   -8.412306e-01 -1.516107e-01 -8.595823e-01 -8.213446e-01 -7.763865e-01   \n",
       "50%   -1.609259e-01 -1.516107e-01 -3.026011e-02  1.007064e-02  5.841925e-02   \n",
       "75%    6.327628e-01  7.435704e-01 -3.026011e-02  1.007064e-02  5.841925e-02   \n",
       "max    4.941359e+00  7.009838e+00  6.604318e+00  6.661393e+00  6.736865e+00   \n",
       "\n",
       "       ...     BILL_AMT4     BILL_AMT5     BILL_AMT6      PAY_AMT1  \\\n",
       "count  ...  4.672800e+04  4.672800e+04  4.672800e+04  4.672800e+04   \n",
       "mean   ... -6.769966e-16 -4.058273e-16  8.430833e-16  1.439051e-15   \n",
       "std    ...  1.000011e+00  1.000011e+00  1.000011e+00  1.000011e+00   \n",
       "min    ... -3.293276e+00 -1.982387e+00 -6.315433e+00 -3.398389e-01   \n",
       "25%    ... -6.339033e-01 -6.311250e-01 -6.305533e-01 -2.959436e-01   \n",
       "50%    ... -3.725885e-01 -3.586509e-01 -3.582685e-01 -1.977255e-01   \n",
       "75%    ...  1.507864e-01  1.473114e-01  1.614707e-01 -2.008380e-02   \n",
       "max    ...  1.310201e+01  1.443238e+01  1.538442e+01  6.173188e+01   \n",
       "\n",
       "           PAY_AMT2      PAY_AMT3      PAY_AMT4      PAY_AMT5      PAY_AMT6  \\\n",
       "count  4.672800e+04  4.672800e+04  4.672800e+04  4.672800e+04  4.672800e+04   \n",
       "mean   1.113210e-15 -1.436978e-16  8.807548e-16  3.179382e-15  1.012730e-15   \n",
       "std    1.000011e+00  1.000011e+00  1.000011e+00  1.000011e+00  1.000011e+00   \n",
       "min   -2.545627e-01 -2.837862e-01 -3.028543e-01 -3.005282e-01 -2.854997e-01   \n",
       "25%   -2.237281e-01 -2.620383e-01 -2.834463e-01 -2.823196e-01 -2.732162e-01   \n",
       "50%   -1.514857e-01 -1.859207e-01 -2.095636e-01 -2.036819e-01 -2.040578e-01   \n",
       "75%   -3.215808e-02 -3.812086e-02 -4.547782e-02 -4.355897e-02 -6.158236e-02   \n",
       "max    8.747072e+01  5.669569e+01  4.535005e+01  3.064162e+01  3.353664e+01   \n",
       "\n",
       "       default payment next month  \n",
       "count                46728.000000  \n",
       "mean                     0.500000  \n",
       "std                      0.500005  \n",
       "min                      0.000000  \n",
       "25%                      0.000000  \n",
       "50%                      0.500000  \n",
       "75%                      1.000000  \n",
       "max                      1.000000  \n",
       "\n",
       "[8 rows x 25 columns]"
      ]
     },
     "execution_count": 23,
     "metadata": {},
     "output_type": "execute_result"
    }
   ],
   "source": [
    "x_data1=list(x_data1)\n",
    "new_data_xy=pd.DataFrame(scaled_xy,columns=df.columns)\n",
    "de=new_data_xy.describe()\n",
    "de"
   ]
  },
  {
   "cell_type": "code",
   "execution_count": 24,
   "metadata": {},
   "outputs": [
    {
     "data": {
      "text/plain": [
       "pandas.core.frame.DataFrame"
      ]
     },
     "execution_count": 24,
     "metadata": {},
     "output_type": "execute_result"
    }
   ],
   "source": [
    "type(new_data_xy)"
   ]
  },
  {
   "cell_type": "code",
   "execution_count": 25,
   "metadata": {
    "scrolled": true
   },
   "outputs": [
    {
     "data": {
      "text/plain": [
       "-0.2732162423567107"
      ]
     },
     "execution_count": 25,
     "metadata": {},
     "output_type": "execute_result"
    }
   ],
   "source": [
    "de.iloc[4,23]"
   ]
  },
  {
   "cell_type": "code",
   "execution_count": 26,
   "metadata": {
    "scrolled": true
   },
   "outputs": [
    {
     "data": {
      "text/plain": [
       "46728.0"
      ]
     },
     "execution_count": 26,
     "metadata": {},
     "output_type": "execute_result"
    }
   ],
   "source": [
    "de.iloc[0,18]"
   ]
  },
  {
   "cell_type": "markdown",
   "metadata": {},
   "source": [
    "#### Calculating Lower and Upper finz"
   ]
  },
  {
   "cell_type": "code",
   "execution_count": 27,
   "metadata": {
    "scrolled": true
   },
   "outputs": [
    {
     "name": "stdout",
     "output_type": "stream",
     "text": [
      "[-3.421337664212103, -2.854653239619262, -4.012766318339466, -3.0822551222268366, -3.7951590380070894, -3.0522206396086133, -1.4943822782442269, -2.1035656787603765, -2.068467535763722, -2.0285950941001176, -2.0374668264633335, -1.988444394772899, -1.8796737044194387, -1.88023423966121, -1.8572657974567308, -1.810937988231398, -1.7987794461595317, -1.8185892938545658, -0.7097334096223331, -0.5110832185065717, -0.5979144738262476, -0.6403991324766602, -0.6404606047641886, -0.5906670676927113]\n",
      "24\n",
      "[3.4132458787963107, 2.5443167772271185, 3.987854267849599, 2.360965488181917, 3.9747406959569513, 2.843752867092577, 2.0863420300293027, 1.213723232004943, 1.2571935515508548, 1.3106278581538777, 1.3892702609078993, 1.4058414643446302, 1.4294764193229796, 1.41894712517947, 1.3930692103144249, 1.327821079707994, 1.3149658281251093, 1.349506707888786, 0.3937059591348136, 0.25519700335398826, 0.2977553017289541, 0.3114749736707117, 0.31458201614109177, 0.25586846653662354]\n",
      "24\n"
     ]
    },
    {
     "data": {
      "text/html": [
       "<div>\n",
       "<style scoped>\n",
       "    .dataframe tbody tr th:only-of-type {\n",
       "        vertical-align: middle;\n",
       "    }\n",
       "\n",
       "    .dataframe tbody tr th {\n",
       "        vertical-align: top;\n",
       "    }\n",
       "\n",
       "    .dataframe thead th {\n",
       "        text-align: right;\n",
       "    }\n",
       "</style>\n",
       "<table border=\"1\" class=\"dataframe\">\n",
       "  <thead>\n",
       "    <tr style=\"text-align: right;\">\n",
       "      <th></th>\n",
       "      <th>ID</th>\n",
       "      <th>LIMIT_BAL</th>\n",
       "      <th>SEX</th>\n",
       "      <th>EDUCATION</th>\n",
       "      <th>MARRIAGE</th>\n",
       "      <th>AGE</th>\n",
       "      <th>PAY_0</th>\n",
       "      <th>PAY_2</th>\n",
       "      <th>PAY_3</th>\n",
       "      <th>PAY_4</th>\n",
       "      <th>...</th>\n",
       "      <th>BILL_AMT3</th>\n",
       "      <th>BILL_AMT4</th>\n",
       "      <th>BILL_AMT5</th>\n",
       "      <th>BILL_AMT6</th>\n",
       "      <th>PAY_AMT1</th>\n",
       "      <th>PAY_AMT2</th>\n",
       "      <th>PAY_AMT3</th>\n",
       "      <th>PAY_AMT4</th>\n",
       "      <th>PAY_AMT5</th>\n",
       "      <th>PAY_AMT6</th>\n",
       "    </tr>\n",
       "  </thead>\n",
       "  <tbody>\n",
       "    <tr>\n",
       "      <th>0</th>\n",
       "      <td>-3.421338</td>\n",
       "      <td>-2.854653</td>\n",
       "      <td>-4.012766</td>\n",
       "      <td>-3.082255</td>\n",
       "      <td>-3.795159</td>\n",
       "      <td>-3.052221</td>\n",
       "      <td>-1.494382</td>\n",
       "      <td>-2.103566</td>\n",
       "      <td>-2.068468</td>\n",
       "      <td>-2.028595</td>\n",
       "      <td>...</td>\n",
       "      <td>-1.857266</td>\n",
       "      <td>-1.810938</td>\n",
       "      <td>-1.798779</td>\n",
       "      <td>-1.818589</td>\n",
       "      <td>-0.709733</td>\n",
       "      <td>-0.511083</td>\n",
       "      <td>-0.597914</td>\n",
       "      <td>-0.640399</td>\n",
       "      <td>-0.640461</td>\n",
       "      <td>-0.590667</td>\n",
       "    </tr>\n",
       "    <tr>\n",
       "      <th>1</th>\n",
       "      <td>3.413246</td>\n",
       "      <td>2.544317</td>\n",
       "      <td>3.987854</td>\n",
       "      <td>2.360965</td>\n",
       "      <td>3.974741</td>\n",
       "      <td>2.843753</td>\n",
       "      <td>2.086342</td>\n",
       "      <td>1.213723</td>\n",
       "      <td>1.257194</td>\n",
       "      <td>1.310628</td>\n",
       "      <td>...</td>\n",
       "      <td>1.393069</td>\n",
       "      <td>1.327821</td>\n",
       "      <td>1.314966</td>\n",
       "      <td>1.349507</td>\n",
       "      <td>0.393706</td>\n",
       "      <td>0.255197</td>\n",
       "      <td>0.297755</td>\n",
       "      <td>0.311475</td>\n",
       "      <td>0.314582</td>\n",
       "      <td>0.255868</td>\n",
       "    </tr>\n",
       "  </tbody>\n",
       "</table>\n",
       "<p>2 rows × 24 columns</p>\n",
       "</div>"
      ],
      "text/plain": [
       "         ID  LIMIT_BAL       SEX  EDUCATION  MARRIAGE       AGE     PAY_0  \\\n",
       "0 -3.421338  -2.854653 -4.012766  -3.082255 -3.795159 -3.052221 -1.494382   \n",
       "1  3.413246   2.544317  3.987854   2.360965  3.974741  2.843753  2.086342   \n",
       "\n",
       "      PAY_2     PAY_3     PAY_4  ...  BILL_AMT3  BILL_AMT4  BILL_AMT5  \\\n",
       "0 -2.103566 -2.068468 -2.028595  ...  -1.857266  -1.810938  -1.798779   \n",
       "1  1.213723  1.257194  1.310628  ...   1.393069   1.327821   1.314966   \n",
       "\n",
       "   BILL_AMT6  PAY_AMT1  PAY_AMT2  PAY_AMT3  PAY_AMT4  PAY_AMT5  PAY_AMT6  \n",
       "0  -1.818589 -0.709733 -0.511083 -0.597914 -0.640399 -0.640461 -0.590667  \n",
       "1   1.349507  0.393706  0.255197  0.297755  0.311475  0.314582  0.255868  \n",
       "\n",
       "[2 rows x 24 columns]"
      ]
     },
     "execution_count": 27,
     "metadata": {},
     "output_type": "execute_result"
    }
   ],
   "source": [
    "lf1=[]\n",
    "uf1=[]\n",
    "for i in range(24):\n",
    "    q1=de.iloc[4,i]\n",
    "    q3=de.iloc[6,i]\n",
    "    lf=q1-(1.5*(q3-q1))\n",
    "    uf=q3+(1.5*(q3-q1))\n",
    "    lf1.append(lf)\n",
    "    uf1.append(uf)\n",
    "    \n",
    "print(lf1)\n",
    "print(len(lf1))\n",
    "\n",
    "print(uf1)\n",
    "print(len(uf1))\n",
    "df_q=[lf1,uf1]\n",
    "df_q=pd.DataFrame(df_q, columns = df.columns[:-1])\n",
    "df_q"
   ]
  },
  {
   "cell_type": "code",
   "execution_count": 28,
   "metadata": {},
   "outputs": [
    {
     "name": "stdout",
     "output_type": "stream",
     "text": [
      "<class 'pandas.core.frame.DataFrame'>\n"
     ]
    },
    {
     "data": {
      "text/plain": [
       "-1.7673466322854035"
      ]
     },
     "execution_count": 28,
     "metadata": {},
     "output_type": "execute_result"
    }
   ],
   "source": [
    "print(type(new_data_xy))\n",
    "new_data_xy.iloc[0,0]\n"
   ]
  },
  {
   "cell_type": "code",
   "execution_count": 29,
   "metadata": {
    "scrolled": true
   },
   "outputs": [
    {
     "data": {
      "text/plain": [
       "Index(['ID', 'LIMIT_BAL', 'SEX', 'EDUCATION', 'MARRIAGE', 'AGE', 'PAY_0',\n",
       "       'PAY_2', 'PAY_3', 'PAY_4', 'PAY_5', 'PAY_6', 'BILL_AMT1', 'BILL_AMT2',\n",
       "       'BILL_AMT3', 'BILL_AMT4', 'BILL_AMT5', 'BILL_AMT6', 'PAY_AMT1',\n",
       "       'PAY_AMT2', 'PAY_AMT3', 'PAY_AMT4', 'PAY_AMT5', 'PAY_AMT6'],\n",
       "      dtype='object')"
      ]
     },
     "execution_count": 29,
     "metadata": {},
     "output_type": "execute_result"
    }
   ],
   "source": [
    "df_q.columns"
   ]
  },
  {
   "cell_type": "markdown",
   "metadata": {},
   "source": [
    "## PART 2: Data Analysis"
   ]
  },
  {
   "cell_type": "code",
   "execution_count": 30,
   "metadata": {
    "scrolled": true
   },
   "outputs": [
    {
     "data": {
      "text/html": [
       "<div>\n",
       "<style scoped>\n",
       "    .dataframe tbody tr th:only-of-type {\n",
       "        vertical-align: middle;\n",
       "    }\n",
       "\n",
       "    .dataframe tbody tr th {\n",
       "        vertical-align: top;\n",
       "    }\n",
       "\n",
       "    .dataframe thead th {\n",
       "        text-align: right;\n",
       "    }\n",
       "</style>\n",
       "<table border=\"1\" class=\"dataframe\">\n",
       "  <thead>\n",
       "    <tr style=\"text-align: right;\">\n",
       "      <th></th>\n",
       "      <th>ID</th>\n",
       "      <th>LIMIT_BAL</th>\n",
       "      <th>SEX</th>\n",
       "      <th>EDUCATION</th>\n",
       "      <th>MARRIAGE</th>\n",
       "      <th>AGE</th>\n",
       "      <th>PAY_0</th>\n",
       "      <th>PAY_2</th>\n",
       "      <th>PAY_3</th>\n",
       "      <th>PAY_4</th>\n",
       "      <th>...</th>\n",
       "      <th>BILL_AMT4</th>\n",
       "      <th>BILL_AMT5</th>\n",
       "      <th>BILL_AMT6</th>\n",
       "      <th>PAY_AMT1</th>\n",
       "      <th>PAY_AMT2</th>\n",
       "      <th>PAY_AMT3</th>\n",
       "      <th>PAY_AMT4</th>\n",
       "      <th>PAY_AMT5</th>\n",
       "      <th>PAY_AMT6</th>\n",
       "      <th>default payment next month</th>\n",
       "    </tr>\n",
       "  </thead>\n",
       "  <tbody>\n",
       "    <tr>\n",
       "      <th>2</th>\n",
       "      <td>-1.767110</td>\n",
       "      <td>-0.512453</td>\n",
       "      <td>0.987622</td>\n",
       "      <td>0.319758</td>\n",
       "      <td>1.061028</td>\n",
       "      <td>-0.160926</td>\n",
       "      <td>-0.151611</td>\n",
       "      <td>-0.030260</td>\n",
       "      <td>0.010071</td>\n",
       "      <td>0.058419</td>\n",
       "      <td>...</td>\n",
       "      <td>-0.446442</td>\n",
       "      <td>-0.415268</td>\n",
       "      <td>-0.392938</td>\n",
       "      <td>-0.231975</td>\n",
       "      <td>-0.176435</td>\n",
       "      <td>-0.220196</td>\n",
       "      <td>-0.229339</td>\n",
       "      <td>-0.227984</td>\n",
       "      <td>0.034382</td>\n",
       "      <td>0</td>\n",
       "    </tr>\n",
       "    <tr>\n",
       "      <th>3</th>\n",
       "      <td>-1.766991</td>\n",
       "      <td>-0.830039</td>\n",
       "      <td>0.987622</td>\n",
       "      <td>0.319758</td>\n",
       "      <td>-0.881447</td>\n",
       "      <td>0.179226</td>\n",
       "      <td>-0.151611</td>\n",
       "      <td>-0.030260</td>\n",
       "      <td>0.010071</td>\n",
       "      <td>0.058419</td>\n",
       "      <td>...</td>\n",
       "      <td>-0.230487</td>\n",
       "      <td>-0.187220</td>\n",
       "      <td>-0.159508</td>\n",
       "      <td>-0.197726</td>\n",
       "      <td>-0.149402</td>\n",
       "      <td>-0.207478</td>\n",
       "      <td>-0.221988</td>\n",
       "      <td>-0.222979</td>\n",
       "      <td>-0.221523</td>\n",
       "      <td>0</td>\n",
       "    </tr>\n",
       "    <tr>\n",
       "      <th>5</th>\n",
       "      <td>-1.766754</td>\n",
       "      <td>-0.830039</td>\n",
       "      <td>-1.012534</td>\n",
       "      <td>-1.041047</td>\n",
       "      <td>1.061028</td>\n",
       "      <td>0.179226</td>\n",
       "      <td>-0.151611</td>\n",
       "      <td>-0.030260</td>\n",
       "      <td>0.010071</td>\n",
       "      <td>0.058419</td>\n",
       "      <td>...</td>\n",
       "      <td>-0.368249</td>\n",
       "      <td>-0.339241</td>\n",
       "      <td>-0.318313</td>\n",
       "      <td>-0.162197</td>\n",
       "      <td>-0.160028</td>\n",
       "      <td>-0.242007</td>\n",
       "      <td>-0.229339</td>\n",
       "      <td>-0.227984</td>\n",
       "      <td>-0.234319</td>\n",
       "      <td>0</td>\n",
       "    </tr>\n",
       "    <tr>\n",
       "      <th>7</th>\n",
       "      <td>-1.766517</td>\n",
       "      <td>-0.433056</td>\n",
       "      <td>0.987622</td>\n",
       "      <td>0.319758</td>\n",
       "      <td>1.061028</td>\n",
       "      <td>-1.408151</td>\n",
       "      <td>-0.151611</td>\n",
       "      <td>-0.859582</td>\n",
       "      <td>-0.821345</td>\n",
       "      <td>0.058419</td>\n",
       "      <td>...</td>\n",
       "      <td>-0.664359</td>\n",
       "      <td>-0.661155</td>\n",
       "      <td>-0.642777</td>\n",
       "      <td>-0.312837</td>\n",
       "      <td>-0.223259</td>\n",
       "      <td>-0.283786</td>\n",
       "      <td>-0.260142</td>\n",
       "      <td>-0.178146</td>\n",
       "      <td>-0.186848</td>\n",
       "      <td>0</td>\n",
       "    </tr>\n",
       "    <tr>\n",
       "      <th>14</th>\n",
       "      <td>-1.765687</td>\n",
       "      <td>0.757893</td>\n",
       "      <td>-1.012534</td>\n",
       "      <td>-1.041047</td>\n",
       "      <td>1.061028</td>\n",
       "      <td>-0.727846</td>\n",
       "      <td>-0.151611</td>\n",
       "      <td>-0.030260</td>\n",
       "      <td>0.010071</td>\n",
       "      <td>0.058419</td>\n",
       "      <td>...</td>\n",
       "      <td>0.254181</td>\n",
       "      <td>0.267150</td>\n",
       "      <td>0.273483</td>\n",
       "      <td>-0.126669</td>\n",
       "      <td>-0.098307</td>\n",
       "      <td>-0.093015</td>\n",
       "      <td>-0.082309</td>\n",
       "      <td>-0.082896</td>\n",
       "      <td>-0.093571</td>\n",
       "      <td>0</td>\n",
       "    </tr>\n",
       "    <tr>\n",
       "      <th>...</th>\n",
       "      <td>...</td>\n",
       "      <td>...</td>\n",
       "      <td>...</td>\n",
       "      <td>...</td>\n",
       "      <td>...</td>\n",
       "      <td>...</td>\n",
       "      <td>...</td>\n",
       "      <td>...</td>\n",
       "      <td>...</td>\n",
       "      <td>...</td>\n",
       "      <td>...</td>\n",
       "      <td>...</td>\n",
       "      <td>...</td>\n",
       "      <td>...</td>\n",
       "      <td>...</td>\n",
       "      <td>...</td>\n",
       "      <td>...</td>\n",
       "      <td>...</td>\n",
       "      <td>...</td>\n",
       "      <td>...</td>\n",
       "      <td>...</td>\n",
       "    </tr>\n",
       "    <tr>\n",
       "      <th>46716</th>\n",
       "      <td>-0.111577</td>\n",
       "      <td>0.916686</td>\n",
       "      <td>-1.012534</td>\n",
       "      <td>-1.041047</td>\n",
       "      <td>-0.881447</td>\n",
       "      <td>0.405995</td>\n",
       "      <td>-1.046792</td>\n",
       "      <td>-0.859582</td>\n",
       "      <td>-0.821345</td>\n",
       "      <td>0.058419</td>\n",
       "      <td>...</td>\n",
       "      <td>-0.661023</td>\n",
       "      <td>-0.649713</td>\n",
       "      <td>-0.644711</td>\n",
       "      <td>-0.308787</td>\n",
       "      <td>-0.213103</td>\n",
       "      <td>-0.278826</td>\n",
       "      <td>-0.262862</td>\n",
       "      <td>-0.274557</td>\n",
       "      <td>-0.257542</td>\n",
       "      <td>1</td>\n",
       "    </tr>\n",
       "    <tr>\n",
       "      <th>46717</th>\n",
       "      <td>1.218753</td>\n",
       "      <td>-1.068229</td>\n",
       "      <td>-1.012534</td>\n",
       "      <td>-1.041047</td>\n",
       "      <td>-0.881447</td>\n",
       "      <td>0.632763</td>\n",
       "      <td>-0.151611</td>\n",
       "      <td>-0.030260</td>\n",
       "      <td>0.010071</td>\n",
       "      <td>0.058419</td>\n",
       "      <td>...</td>\n",
       "      <td>-0.381268</td>\n",
       "      <td>-0.350993</td>\n",
       "      <td>-0.352165</td>\n",
       "      <td>-0.241496</td>\n",
       "      <td>-0.182060</td>\n",
       "      <td>-0.182487</td>\n",
       "      <td>-0.243601</td>\n",
       "      <td>-0.240172</td>\n",
       "      <td>-0.232911</td>\n",
       "      <td>1</td>\n",
       "    </tr>\n",
       "    <tr>\n",
       "      <th>46720</th>\n",
       "      <td>0.438291</td>\n",
       "      <td>-0.830039</td>\n",
       "      <td>0.987622</td>\n",
       "      <td>0.319758</td>\n",
       "      <td>-0.881447</td>\n",
       "      <td>-0.954615</td>\n",
       "      <td>0.743570</td>\n",
       "      <td>0.799062</td>\n",
       "      <td>0.841486</td>\n",
       "      <td>0.893225</td>\n",
       "      <td>...</td>\n",
       "      <td>0.007893</td>\n",
       "      <td>0.069588</td>\n",
       "      <td>0.111076</td>\n",
       "      <td>-0.190762</td>\n",
       "      <td>-0.150392</td>\n",
       "      <td>-0.187956</td>\n",
       "      <td>-0.154795</td>\n",
       "      <td>-0.162622</td>\n",
       "      <td>-0.164328</td>\n",
       "      <td>1</td>\n",
       "    </tr>\n",
       "    <tr>\n",
       "      <th>46722</th>\n",
       "      <td>0.748555</td>\n",
       "      <td>-0.988833</td>\n",
       "      <td>-1.012534</td>\n",
       "      <td>0.319758</td>\n",
       "      <td>1.061028</td>\n",
       "      <td>-0.727846</td>\n",
       "      <td>-0.151611</td>\n",
       "      <td>-0.030260</td>\n",
       "      <td>0.010071</td>\n",
       "      <td>0.058419</td>\n",
       "      <td>...</td>\n",
       "      <td>-0.213823</td>\n",
       "      <td>-0.456659</td>\n",
       "      <td>-0.652232</td>\n",
       "      <td>-0.190051</td>\n",
       "      <td>-0.120859</td>\n",
       "      <td>-0.160357</td>\n",
       "      <td>-0.164793</td>\n",
       "      <td>-0.300528</td>\n",
       "      <td>-0.285500</td>\n",
       "      <td>1</td>\n",
       "    </tr>\n",
       "    <tr>\n",
       "      <th>46726</th>\n",
       "      <td>-0.920019</td>\n",
       "      <td>-0.830039</td>\n",
       "      <td>-1.012534</td>\n",
       "      <td>-1.041047</td>\n",
       "      <td>1.061028</td>\n",
       "      <td>-1.294767</td>\n",
       "      <td>0.743570</td>\n",
       "      <td>-0.030260</td>\n",
       "      <td>0.010071</td>\n",
       "      <td>0.058419</td>\n",
       "      <td>...</td>\n",
       "      <td>-0.537424</td>\n",
       "      <td>-0.513366</td>\n",
       "      <td>-0.515623</td>\n",
       "      <td>-0.167171</td>\n",
       "      <td>-0.155444</td>\n",
       "      <td>-0.245696</td>\n",
       "      <td>-0.258304</td>\n",
       "      <td>-0.279273</td>\n",
       "      <td>-0.265859</td>\n",
       "      <td>1</td>\n",
       "    </tr>\n",
       "  </tbody>\n",
       "</table>\n",
       "<p>19404 rows × 25 columns</p>\n",
       "</div>"
      ],
      "text/plain": [
       "             ID  LIMIT_BAL       SEX  EDUCATION  MARRIAGE       AGE     PAY_0  \\\n",
       "2     -1.767110  -0.512453  0.987622   0.319758  1.061028 -0.160926 -0.151611   \n",
       "3     -1.766991  -0.830039  0.987622   0.319758 -0.881447  0.179226 -0.151611   \n",
       "5     -1.766754  -0.830039 -1.012534  -1.041047  1.061028  0.179226 -0.151611   \n",
       "7     -1.766517  -0.433056  0.987622   0.319758  1.061028 -1.408151 -0.151611   \n",
       "14    -1.765687   0.757893 -1.012534  -1.041047  1.061028 -0.727846 -0.151611   \n",
       "...         ...        ...       ...        ...       ...       ...       ...   \n",
       "46716 -0.111577   0.916686 -1.012534  -1.041047 -0.881447  0.405995 -1.046792   \n",
       "46717  1.218753  -1.068229 -1.012534  -1.041047 -0.881447  0.632763 -0.151611   \n",
       "46720  0.438291  -0.830039  0.987622   0.319758 -0.881447 -0.954615  0.743570   \n",
       "46722  0.748555  -0.988833 -1.012534   0.319758  1.061028 -0.727846 -0.151611   \n",
       "46726 -0.920019  -0.830039 -1.012534  -1.041047  1.061028 -1.294767  0.743570   \n",
       "\n",
       "          PAY_2     PAY_3     PAY_4  ...  BILL_AMT4  BILL_AMT5  BILL_AMT6  \\\n",
       "2     -0.030260  0.010071  0.058419  ...  -0.446442  -0.415268  -0.392938   \n",
       "3     -0.030260  0.010071  0.058419  ...  -0.230487  -0.187220  -0.159508   \n",
       "5     -0.030260  0.010071  0.058419  ...  -0.368249  -0.339241  -0.318313   \n",
       "7     -0.859582 -0.821345  0.058419  ...  -0.664359  -0.661155  -0.642777   \n",
       "14    -0.030260  0.010071  0.058419  ...   0.254181   0.267150   0.273483   \n",
       "...         ...       ...       ...  ...        ...        ...        ...   \n",
       "46716 -0.859582 -0.821345  0.058419  ...  -0.661023  -0.649713  -0.644711   \n",
       "46717 -0.030260  0.010071  0.058419  ...  -0.381268  -0.350993  -0.352165   \n",
       "46720  0.799062  0.841486  0.893225  ...   0.007893   0.069588   0.111076   \n",
       "46722 -0.030260  0.010071  0.058419  ...  -0.213823  -0.456659  -0.652232   \n",
       "46726 -0.030260  0.010071  0.058419  ...  -0.537424  -0.513366  -0.515623   \n",
       "\n",
       "       PAY_AMT1  PAY_AMT2  PAY_AMT3  PAY_AMT4  PAY_AMT5  PAY_AMT6  \\\n",
       "2     -0.231975 -0.176435 -0.220196 -0.229339 -0.227984  0.034382   \n",
       "3     -0.197726 -0.149402 -0.207478 -0.221988 -0.222979 -0.221523   \n",
       "5     -0.162197 -0.160028 -0.242007 -0.229339 -0.227984 -0.234319   \n",
       "7     -0.312837 -0.223259 -0.283786 -0.260142 -0.178146 -0.186848   \n",
       "14    -0.126669 -0.098307 -0.093015 -0.082309 -0.082896 -0.093571   \n",
       "...         ...       ...       ...       ...       ...       ...   \n",
       "46716 -0.308787 -0.213103 -0.278826 -0.262862 -0.274557 -0.257542   \n",
       "46717 -0.241496 -0.182060 -0.182487 -0.243601 -0.240172 -0.232911   \n",
       "46720 -0.190762 -0.150392 -0.187956 -0.154795 -0.162622 -0.164328   \n",
       "46722 -0.190051 -0.120859 -0.160357 -0.164793 -0.300528 -0.285500   \n",
       "46726 -0.167171 -0.155444 -0.245696 -0.258304 -0.279273 -0.265859   \n",
       "\n",
       "       default payment next month  \n",
       "2                               0  \n",
       "3                               0  \n",
       "5                               0  \n",
       "7                               0  \n",
       "14                              0  \n",
       "...                           ...  \n",
       "46716                           1  \n",
       "46717                           1  \n",
       "46720                           1  \n",
       "46722                           1  \n",
       "46726                           1  \n",
       "\n",
       "[19404 rows x 25 columns]"
      ]
     },
     "execution_count": 30,
     "metadata": {},
     "output_type": "execute_result"
    }
   ],
   "source": [
    "new_xy_data1=new_data_xy.loc[((new_data_xy['LIMIT_BAL']>=df_q.iloc[0,1]) & (new_data_xy['LIMIT_BAL']<=df_q.iloc[1,1]))\n",
    "            &((new_data_xy['SEX']>=df_q.iloc[0,2]) & (new_data_xy['SEX']<=df_q.iloc[1,2]))\n",
    "            &((new_data_xy['EDUCATION']>=df_q.iloc[0,3]) & (new_data_xy['EDUCATION']<=df_q.iloc[1,3]))\n",
    "            &((new_data_xy['MARRIAGE']>=df_q.iloc[0,4]) & (new_data_xy['MARRIAGE']<=df_q.iloc[1,4]))\n",
    "            &((new_data_xy['AGE']>=df_q.iloc[0,5]) & (new_data_xy['AGE']<=df_q.iloc[1,5]))\n",
    "            &((new_data_xy['PAY_0']>=df_q.iloc[0,6]) & (new_data_xy['PAY_0']<=df_q.iloc[1,6]))\n",
    "            &((new_data_xy['PAY_2']>=df_q.iloc[0,7]) & (new_data_xy['PAY_2']<=df_q.iloc[1,7]))\n",
    "            &((new_data_xy['PAY_3']>=df_q.iloc[0,8]) & (new_data_xy['PAY_3']<=df_q.iloc[1,8]))\n",
    "            &((new_data_xy['PAY_4']>=df_q.iloc[0,9]) & (new_data_xy['PAY_4']<=df_q.iloc[1,9]))\n",
    "            &((new_data_xy['PAY_5']>=df_q.iloc[0,10]) & (new_data_xy['PAY_5']<=df_q.iloc[1,10]))\n",
    "            &((new_data_xy['PAY_6']>=df_q.iloc[0,11]) & (new_data_xy['PAY_6']<=df_q.iloc[1,11]))\n",
    "            &((new_data_xy['BILL_AMT1']>=df_q.iloc[0,12]) & (new_data_xy['BILL_AMT1']<=df_q.iloc[1,12]))\n",
    "            &((new_data_xy['BILL_AMT2']>=df_q.iloc[0,13]) & (new_data_xy['BILL_AMT2']<=df_q.iloc[1,13]))\n",
    "            &((new_data_xy['BILL_AMT3']>=df_q.iloc[0,14]) & (new_data_xy['BILL_AMT3']<=df_q.iloc[1,14]))\n",
    "            &((new_data_xy['BILL_AMT4']>=df_q.iloc[0,15]) & (new_data_xy['BILL_AMT4']<=df_q.iloc[1,15]))\n",
    "            &((new_data_xy['BILL_AMT5']>=df_q.iloc[0,16]) & (new_data_xy['BILL_AMT5']<=df_q.iloc[1,16]))\n",
    "            &((new_data_xy['BILL_AMT6']>=df_q.iloc[0,17]) & (new_data_xy['BILL_AMT6']<=df_q.iloc[1,17]))\n",
    "            \n",
    "            &((new_data_xy['PAY_AMT1']>=df_q.iloc[0,18]) & (new_data_xy['PAY_AMT1']<=df_q.iloc[1,18]))\n",
    "            &((new_data_xy['PAY_AMT2']>=df_q.iloc[0,19]) & (new_data_xy['PAY_AMT2']<=df_q.iloc[1,19]))\n",
    "            &((new_data_xy['PAY_AMT3']>=df_q.iloc[0,20]) & (new_data_xy['PAY_AMT3']<=df_q.iloc[1,20]))\n",
    "            &((new_data_xy['PAY_AMT4']>=df_q.iloc[0,21]) & (new_data_xy['PAY_AMT4']<=df_q.iloc[1,21]))\n",
    "            &((new_data_xy['PAY_AMT5']>=df_q.iloc[0,22]) & (new_data_xy['PAY_AMT5']<=df_q.iloc[1,22]))\n",
    "            &((new_data_xy['PAY_AMT6']>=df_q.iloc[0,23]) & (new_data_xy['PAY_AMT6']<=df_q.iloc[1,23]))]\n",
    "new_xy_data1"
   ]
  },
  {
   "cell_type": "code",
   "execution_count": 31,
   "metadata": {},
   "outputs": [
    {
     "data": {
      "text/plain": [
       "<AxesSubplot:>"
      ]
     },
     "execution_count": 31,
     "metadata": {},
     "output_type": "execute_result"
    },
    {
     "data": {
      "image/png": "[encoded data removed]",
      "text/plain": [
       "<Figure size 720x720 with 1 Axes>"
      ]
     },
     "metadata": {},
     "output_type": "display_data"
    }
   ],
   "source": [
    "sns.set(style='whitegrid',rc={\"figure.figsize\":(10, 10)})\n",
    "sns.boxplot(data=new_xy_data1)"
   ]
  },
  {
   "cell_type": "markdown",
   "metadata": {},
   "source": [
    "## Again__Data Slicing (Dependent & Independent Variables)"
   ]
  },
  {
   "cell_type": "code",
   "execution_count": 32,
   "metadata": {},
   "outputs": [
    {
     "data": {
      "text/plain": [
       "(19404, 25)"
      ]
     },
     "execution_count": 32,
     "metadata": {},
     "output_type": "execute_result"
    }
   ],
   "source": [
    "new_xy_data1.shape"
   ]
  },
  {
   "cell_type": "code",
   "execution_count": 33,
   "metadata": {},
   "outputs": [
    {
     "data": {
      "text/html": [
       "<div>\n",
       "<style scoped>\n",
       "    .dataframe tbody tr th:only-of-type {\n",
       "        vertical-align: middle;\n",
       "    }\n",
       "\n",
       "    .dataframe tbody tr th {\n",
       "        vertical-align: top;\n",
       "    }\n",
       "\n",
       "    .dataframe thead th {\n",
       "        text-align: right;\n",
       "    }\n",
       "</style>\n",
       "<table border=\"1\" class=\"dataframe\">\n",
       "  <thead>\n",
       "    <tr style=\"text-align: right;\">\n",
       "      <th></th>\n",
       "      <th>ID</th>\n",
       "      <th>LIMIT_BAL</th>\n",
       "      <th>SEX</th>\n",
       "      <th>EDUCATION</th>\n",
       "      <th>MARRIAGE</th>\n",
       "      <th>AGE</th>\n",
       "      <th>PAY_0</th>\n",
       "      <th>PAY_2</th>\n",
       "      <th>PAY_3</th>\n",
       "      <th>PAY_4</th>\n",
       "      <th>...</th>\n",
       "      <th>BILL_AMT3</th>\n",
       "      <th>BILL_AMT4</th>\n",
       "      <th>BILL_AMT5</th>\n",
       "      <th>BILL_AMT6</th>\n",
       "      <th>PAY_AMT1</th>\n",
       "      <th>PAY_AMT2</th>\n",
       "      <th>PAY_AMT3</th>\n",
       "      <th>PAY_AMT4</th>\n",
       "      <th>PAY_AMT5</th>\n",
       "      <th>PAY_AMT6</th>\n",
       "    </tr>\n",
       "  </thead>\n",
       "  <tbody>\n",
       "    <tr>\n",
       "      <th>2</th>\n",
       "      <td>-1.767110</td>\n",
       "      <td>-0.512453</td>\n",
       "      <td>0.987622</td>\n",
       "      <td>0.319758</td>\n",
       "      <td>1.061028</td>\n",
       "      <td>-0.160926</td>\n",
       "      <td>-0.151611</td>\n",
       "      <td>-0.030260</td>\n",
       "      <td>0.010071</td>\n",
       "      <td>0.058419</td>\n",
       "      <td>...</td>\n",
       "      <td>-0.479199</td>\n",
       "      <td>-0.446442</td>\n",
       "      <td>-0.415268</td>\n",
       "      <td>-0.392938</td>\n",
       "      <td>-0.231975</td>\n",
       "      <td>-0.176435</td>\n",
       "      <td>-0.220196</td>\n",
       "      <td>-0.229339</td>\n",
       "      <td>-0.227984</td>\n",
       "      <td>0.034382</td>\n",
       "    </tr>\n",
       "    <tr>\n",
       "      <th>3</th>\n",
       "      <td>-1.766991</td>\n",
       "      <td>-0.830039</td>\n",
       "      <td>0.987622</td>\n",
       "      <td>0.319758</td>\n",
       "      <td>-0.881447</td>\n",
       "      <td>0.179226</td>\n",
       "      <td>-0.151611</td>\n",
       "      <td>-0.030260</td>\n",
       "      <td>0.010071</td>\n",
       "      <td>0.058419</td>\n",
       "      <td>...</td>\n",
       "      <td>0.035924</td>\n",
       "      <td>-0.230487</td>\n",
       "      <td>-0.187220</td>\n",
       "      <td>-0.159508</td>\n",
       "      <td>-0.197726</td>\n",
       "      <td>-0.149402</td>\n",
       "      <td>-0.207478</td>\n",
       "      <td>-0.221988</td>\n",
       "      <td>-0.222979</td>\n",
       "      <td>-0.221523</td>\n",
       "    </tr>\n",
       "    <tr>\n",
       "      <th>5</th>\n",
       "      <td>-1.766754</td>\n",
       "      <td>-0.830039</td>\n",
       "      <td>-1.012534</td>\n",
       "      <td>-1.041047</td>\n",
       "      <td>1.061028</td>\n",
       "      <td>0.179226</td>\n",
       "      <td>-0.151611</td>\n",
       "      <td>-0.030260</td>\n",
       "      <td>0.010071</td>\n",
       "      <td>0.058419</td>\n",
       "      <td>...</td>\n",
       "      <td>0.155824</td>\n",
       "      <td>-0.368249</td>\n",
       "      <td>-0.339241</td>\n",
       "      <td>-0.318313</td>\n",
       "      <td>-0.162197</td>\n",
       "      <td>-0.160028</td>\n",
       "      <td>-0.242007</td>\n",
       "      <td>-0.229339</td>\n",
       "      <td>-0.227984</td>\n",
       "      <td>-0.234319</td>\n",
       "    </tr>\n",
       "    <tr>\n",
       "      <th>7</th>\n",
       "      <td>-1.766517</td>\n",
       "      <td>-0.433056</td>\n",
       "      <td>0.987622</td>\n",
       "      <td>0.319758</td>\n",
       "      <td>1.061028</td>\n",
       "      <td>-1.408151</td>\n",
       "      <td>-0.151611</td>\n",
       "      <td>-0.859582</td>\n",
       "      <td>-0.821345</td>\n",
       "      <td>0.058419</td>\n",
       "      <td>...</td>\n",
       "      <td>-0.666005</td>\n",
       "      <td>-0.664359</td>\n",
       "      <td>-0.661155</td>\n",
       "      <td>-0.642777</td>\n",
       "      <td>-0.312837</td>\n",
       "      <td>-0.223259</td>\n",
       "      <td>-0.283786</td>\n",
       "      <td>-0.260142</td>\n",
       "      <td>-0.178146</td>\n",
       "      <td>-0.186848</td>\n",
       "    </tr>\n",
       "    <tr>\n",
       "      <th>14</th>\n",
       "      <td>-1.765687</td>\n",
       "      <td>0.757893</td>\n",
       "      <td>-1.012534</td>\n",
       "      <td>-1.041047</td>\n",
       "      <td>1.061028</td>\n",
       "      <td>-0.727846</td>\n",
       "      <td>-0.151611</td>\n",
       "      <td>-0.030260</td>\n",
       "      <td>0.010071</td>\n",
       "      <td>0.058419</td>\n",
       "      <td>...</td>\n",
       "      <td>0.241644</td>\n",
       "      <td>0.254181</td>\n",
       "      <td>0.267150</td>\n",
       "      <td>0.273483</td>\n",
       "      <td>-0.126669</td>\n",
       "      <td>-0.098307</td>\n",
       "      <td>-0.093015</td>\n",
       "      <td>-0.082309</td>\n",
       "      <td>-0.082896</td>\n",
       "      <td>-0.093571</td>\n",
       "    </tr>\n",
       "    <tr>\n",
       "      <th>...</th>\n",
       "      <td>...</td>\n",
       "      <td>...</td>\n",
       "      <td>...</td>\n",
       "      <td>...</td>\n",
       "      <td>...</td>\n",
       "      <td>...</td>\n",
       "      <td>...</td>\n",
       "      <td>...</td>\n",
       "      <td>...</td>\n",
       "      <td>...</td>\n",
       "      <td>...</td>\n",
       "      <td>...</td>\n",
       "      <td>...</td>\n",
       "      <td>...</td>\n",
       "      <td>...</td>\n",
       "      <td>...</td>\n",
       "      <td>...</td>\n",
       "      <td>...</td>\n",
       "      <td>...</td>\n",
       "      <td>...</td>\n",
       "      <td>...</td>\n",
       "    </tr>\n",
       "    <tr>\n",
       "      <th>46716</th>\n",
       "      <td>-0.111577</td>\n",
       "      <td>0.916686</td>\n",
       "      <td>-1.012534</td>\n",
       "      <td>-1.041047</td>\n",
       "      <td>-0.881447</td>\n",
       "      <td>0.405995</td>\n",
       "      <td>-1.046792</td>\n",
       "      <td>-0.859582</td>\n",
       "      <td>-0.821345</td>\n",
       "      <td>0.058419</td>\n",
       "      <td>...</td>\n",
       "      <td>-0.663193</td>\n",
       "      <td>-0.661023</td>\n",
       "      <td>-0.649713</td>\n",
       "      <td>-0.644711</td>\n",
       "      <td>-0.308787</td>\n",
       "      <td>-0.213103</td>\n",
       "      <td>-0.278826</td>\n",
       "      <td>-0.262862</td>\n",
       "      <td>-0.274557</td>\n",
       "      <td>-0.257542</td>\n",
       "    </tr>\n",
       "    <tr>\n",
       "      <th>46717</th>\n",
       "      <td>1.218753</td>\n",
       "      <td>-1.068229</td>\n",
       "      <td>-1.012534</td>\n",
       "      <td>-1.041047</td>\n",
       "      <td>-0.881447</td>\n",
       "      <td>0.632763</td>\n",
       "      <td>-0.151611</td>\n",
       "      <td>-0.030260</td>\n",
       "      <td>0.010071</td>\n",
       "      <td>0.058419</td>\n",
       "      <td>...</td>\n",
       "      <td>-0.422168</td>\n",
       "      <td>-0.381268</td>\n",
       "      <td>-0.350993</td>\n",
       "      <td>-0.352165</td>\n",
       "      <td>-0.241496</td>\n",
       "      <td>-0.182060</td>\n",
       "      <td>-0.182487</td>\n",
       "      <td>-0.243601</td>\n",
       "      <td>-0.240172</td>\n",
       "      <td>-0.232911</td>\n",
       "    </tr>\n",
       "    <tr>\n",
       "      <th>46720</th>\n",
       "      <td>0.438291</td>\n",
       "      <td>-0.830039</td>\n",
       "      <td>0.987622</td>\n",
       "      <td>0.319758</td>\n",
       "      <td>-0.881447</td>\n",
       "      <td>-0.954615</td>\n",
       "      <td>0.743570</td>\n",
       "      <td>0.799062</td>\n",
       "      <td>0.841486</td>\n",
       "      <td>0.893225</td>\n",
       "      <td>...</td>\n",
       "      <td>-0.051021</td>\n",
       "      <td>0.007893</td>\n",
       "      <td>0.069588</td>\n",
       "      <td>0.111076</td>\n",
       "      <td>-0.190762</td>\n",
       "      <td>-0.150392</td>\n",
       "      <td>-0.187956</td>\n",
       "      <td>-0.154795</td>\n",
       "      <td>-0.162622</td>\n",
       "      <td>-0.164328</td>\n",
       "    </tr>\n",
       "    <tr>\n",
       "      <th>46722</th>\n",
       "      <td>0.748555</td>\n",
       "      <td>-0.988833</td>\n",
       "      <td>-1.012534</td>\n",
       "      <td>0.319758</td>\n",
       "      <td>1.061028</td>\n",
       "      <td>-0.727846</td>\n",
       "      <td>-0.151611</td>\n",
       "      <td>-0.030260</td>\n",
       "      <td>0.010071</td>\n",
       "      <td>0.058419</td>\n",
       "      <td>...</td>\n",
       "      <td>-0.252200</td>\n",
       "      <td>-0.213823</td>\n",
       "      <td>-0.456659</td>\n",
       "      <td>-0.652232</td>\n",
       "      <td>-0.190051</td>\n",
       "      <td>-0.120859</td>\n",
       "      <td>-0.160357</td>\n",
       "      <td>-0.164793</td>\n",
       "      <td>-0.300528</td>\n",
       "      <td>-0.285500</td>\n",
       "    </tr>\n",
       "    <tr>\n",
       "      <th>46726</th>\n",
       "      <td>-0.920019</td>\n",
       "      <td>-0.830039</td>\n",
       "      <td>-1.012534</td>\n",
       "      <td>-1.041047</td>\n",
       "      <td>1.061028</td>\n",
       "      <td>-1.294767</td>\n",
       "      <td>0.743570</td>\n",
       "      <td>-0.030260</td>\n",
       "      <td>0.010071</td>\n",
       "      <td>0.058419</td>\n",
       "      <td>...</td>\n",
       "      <td>0.007408</td>\n",
       "      <td>-0.537424</td>\n",
       "      <td>-0.513366</td>\n",
       "      <td>-0.515623</td>\n",
       "      <td>-0.167171</td>\n",
       "      <td>-0.155444</td>\n",
       "      <td>-0.245696</td>\n",
       "      <td>-0.258304</td>\n",
       "      <td>-0.279273</td>\n",
       "      <td>-0.265859</td>\n",
       "    </tr>\n",
       "  </tbody>\n",
       "</table>\n",
       "<p>19404 rows × 24 columns</p>\n",
       "</div>"
      ],
      "text/plain": [
       "             ID  LIMIT_BAL       SEX  EDUCATION  MARRIAGE       AGE     PAY_0  \\\n",
       "2     -1.767110  -0.512453  0.987622   0.319758  1.061028 -0.160926 -0.151611   \n",
       "3     -1.766991  -0.830039  0.987622   0.319758 -0.881447  0.179226 -0.151611   \n",
       "5     -1.766754  -0.830039 -1.012534  -1.041047  1.061028  0.179226 -0.151611   \n",
       "7     -1.766517  -0.433056  0.987622   0.319758  1.061028 -1.408151 -0.151611   \n",
       "14    -1.765687   0.757893 -1.012534  -1.041047  1.061028 -0.727846 -0.151611   \n",
       "...         ...        ...       ...        ...       ...       ...       ...   \n",
       "46716 -0.111577   0.916686 -1.012534  -1.041047 -0.881447  0.405995 -1.046792   \n",
       "46717  1.218753  -1.068229 -1.012534  -1.041047 -0.881447  0.632763 -0.151611   \n",
       "46720  0.438291  -0.830039  0.987622   0.319758 -0.881447 -0.954615  0.743570   \n",
       "46722  0.748555  -0.988833 -1.012534   0.319758  1.061028 -0.727846 -0.151611   \n",
       "46726 -0.920019  -0.830039 -1.012534  -1.041047  1.061028 -1.294767  0.743570   \n",
       "\n",
       "          PAY_2     PAY_3     PAY_4  ...  BILL_AMT3  BILL_AMT4  BILL_AMT5  \\\n",
       "2     -0.030260  0.010071  0.058419  ...  -0.479199  -0.446442  -0.415268   \n",
       "3     -0.030260  0.010071  0.058419  ...   0.035924  -0.230487  -0.187220   \n",
       "5     -0.030260  0.010071  0.058419  ...   0.155824  -0.368249  -0.339241   \n",
       "7     -0.859582 -0.821345  0.058419  ...  -0.666005  -0.664359  -0.661155   \n",
       "14    -0.030260  0.010071  0.058419  ...   0.241644   0.254181   0.267150   \n",
       "...         ...       ...       ...  ...        ...        ...        ...   \n",
       "46716 -0.859582 -0.821345  0.058419  ...  -0.663193  -0.661023  -0.649713   \n",
       "46717 -0.030260  0.010071  0.058419  ...  -0.422168  -0.381268  -0.350993   \n",
       "46720  0.799062  0.841486  0.893225  ...  -0.051021   0.007893   0.069588   \n",
       "46722 -0.030260  0.010071  0.058419  ...  -0.252200  -0.213823  -0.456659   \n",
       "46726 -0.030260  0.010071  0.058419  ...   0.007408  -0.537424  -0.513366   \n",
       "\n",
       "       BILL_AMT6  PAY_AMT1  PAY_AMT2  PAY_AMT3  PAY_AMT4  PAY_AMT5  PAY_AMT6  \n",
       "2      -0.392938 -0.231975 -0.176435 -0.220196 -0.229339 -0.227984  0.034382  \n",
       "3      -0.159508 -0.197726 -0.149402 -0.207478 -0.221988 -0.222979 -0.221523  \n",
       "5      -0.318313 -0.162197 -0.160028 -0.242007 -0.229339 -0.227984 -0.234319  \n",
       "7      -0.642777 -0.312837 -0.223259 -0.283786 -0.260142 -0.178146 -0.186848  \n",
       "14      0.273483 -0.126669 -0.098307 -0.093015 -0.082309 -0.082896 -0.093571  \n",
       "...          ...       ...       ...       ...       ...       ...       ...  \n",
       "46716  -0.644711 -0.308787 -0.213103 -0.278826 -0.262862 -0.274557 -0.257542  \n",
       "46717  -0.352165 -0.241496 -0.182060 -0.182487 -0.243601 -0.240172 -0.232911  \n",
       "46720   0.111076 -0.190762 -0.150392 -0.187956 -0.154795 -0.162622 -0.164328  \n",
       "46722  -0.652232 -0.190051 -0.120859 -0.160357 -0.164793 -0.300528 -0.285500  \n",
       "46726  -0.515623 -0.167171 -0.155444 -0.245696 -0.258304 -0.279273 -0.265859  \n",
       "\n",
       "[19404 rows x 24 columns]"
      ]
     },
     "execution_count": 33,
     "metadata": {},
     "output_type": "execute_result"
    }
   ],
   "source": [
    "new_x=new_xy_data1.drop(columns=\"default payment next month\")\n",
    "new_x"
   ]
  },
  {
   "cell_type": "code",
   "execution_count": 34,
   "metadata": {},
   "outputs": [
    {
     "data": {
      "text/plain": [
       "2        0\n",
       "3        0\n",
       "5        0\n",
       "7        0\n",
       "14       0\n",
       "        ..\n",
       "46716    1\n",
       "46717    1\n",
       "46720    1\n",
       "46722    1\n",
       "46726    1\n",
       "Name: default payment next month, Length: 19404, dtype: int64"
      ]
     },
     "execution_count": 34,
     "metadata": {},
     "output_type": "execute_result"
    }
   ],
   "source": [
    "new_y=new_xy_data1['default payment next month']\n",
    "new_y"
   ]
  },
  {
   "cell_type": "markdown",
   "metadata": {},
   "source": [
    "## Train Test Split"
   ]
  },
  {
   "cell_type": "code",
   "execution_count": 35,
   "metadata": {},
   "outputs": [],
   "source": [
    "from sklearn.model_selection import train_test_split\n",
    "x_train,x_test,y_train,y_test = train_test_split(new_x,new_y,test_size=0.2,random_state=31)"
   ]
  },
  {
   "cell_type": "code",
   "execution_count": 36,
   "metadata": {},
   "outputs": [
    {
     "name": "stdout",
     "output_type": "stream",
     "text": [
      "(15523, 24) (3881, 24) (15523,) (3881,)\n"
     ]
    }
   ],
   "source": [
    "print(x_train.shape, x_test.shape, y_train.shape, y_test.shape)"
   ]
  },
  {
   "cell_type": "markdown",
   "metadata": {},
   "source": [
    "##  Logistics Regression"
   ]
  },
  {
   "cell_type": "code",
   "execution_count": 37,
   "metadata": {},
   "outputs": [
    {
     "name": "stdout",
     "output_type": "stream",
     "text": [
      "This is the y prediction :\t\n",
      "[0 0 0 ... 1 0 0]\n",
      "\n",
      "\n",
      "Accuracy of Logistic Regression:\n",
      " 71.34759082710642\n"
     ]
    }
   ],
   "source": [
    "from sklearn.linear_model import LogisticRegression\n",
    "l1 = LogisticRegression()\n",
    "l1.fit(x_train, y_train)\n",
    "y_pred1 = l1.predict(x_test)\n",
    "print(\"This is the y prediction :\\t\")\n",
    "print(y_pred1)\n",
    "print(\"\\n\")\n",
    "from sklearn.metrics import accuracy_score\n",
    "lr = accuracy_score(y_test,y_pred1)*100\n",
    "print(\"Accuracy of Logistic Regression:\\n\",lr)"
   ]
  },
  {
   "cell_type": "code",
   "execution_count": 38,
   "metadata": {},
   "outputs": [
    {
     "name": "stdout",
     "output_type": "stream",
     "text": [
      "[[1251  593]\n",
      " [ 519 1518]]\n"
     ]
    }
   ],
   "source": [
    "from sklearn.metrics import confusion_matrix,classification_report\n",
    "cm = confusion_matrix(y_test,y_pred1)\n",
    "print(cm)"
   ]
  },
  {
   "cell_type": "code",
   "execution_count": 39,
   "metadata": {},
   "outputs": [
    {
     "name": "stdout",
     "output_type": "stream",
     "text": [
      "Accuracy of Logistic Regression 71.34759082710642\n"
     ]
    },
    {
     "data": {
      "text/plain": [
       "(1251, 593, 519, 1518)"
      ]
     },
     "execution_count": 39,
     "metadata": {},
     "output_type": "execute_result"
    },
    {
     "data": {
      "image/png": "[encoded data removed]",
      "text/plain": [
       "<Figure size 360x144 with 2 Axes>"
      ]
     },
     "metadata": {},
     "output_type": "display_data"
    }
   ],
   "source": [
    "sns.set(style='whitegrid',rc={\"figure.figsize\":(5, 2)})\n",
    "sns.heatmap(confusion_matrix(y_test,y_pred1),annot=True,fmt=\"d\")\n",
    "print(\"Accuracy of Logistic Regression\",lr)\n",
    "TN = cm[0,0]\n",
    "FP = cm[0,1]\n",
    "FN = cm[1,0]\n",
    "TP = cm[1,1]\n",
    "TN,FP,FN,TP"
   ]
  },
  {
   "cell_type": "markdown",
   "metadata": {},
   "source": [
    "##  Random Forest Algorithm"
   ]
  },
  {
   "cell_type": "code",
   "execution_count": 40,
   "metadata": {},
   "outputs": [
    {
     "name": "stdout",
     "output_type": "stream",
     "text": [
      "This is the y prediction :\t\n",
      "[1 0 0 ... 0 0 0]\n",
      "\n",
      "\n",
      "Accuracy of Random Forest:\n",
      " 83.74130378768359\n"
     ]
    }
   ],
   "source": [
    "from sklearn.ensemble import RandomForestClassifier  \n",
    "rf= RandomForestClassifier(n_estimators= 10, criterion=\"entropy\")  \n",
    "rf.fit(x_train, y_train)  \n",
    "y_pred2 = rf.predict(x_test) \n",
    "print(\"This is the y prediction :\\t\")\n",
    "print(y_pred2)\n",
    "print(\"\\n\")\n",
    "from sklearn.metrics import accuracy_score\n",
    "rf = accuracy_score(y_test,y_pred2)*100\n",
    "print(\"Accuracy of Random Forest:\\n\",rf)"
   ]
  },
  {
   "cell_type": "markdown",
   "metadata": {},
   "source": [
    "##  Support Vector Machine(SVM)"
   ]
  },
  {
   "cell_type": "code",
   "execution_count": 41,
   "metadata": {},
   "outputs": [
    {
     "name": "stdout",
     "output_type": "stream",
     "text": [
      "This is the y prediction :\t\n",
      "[0 0 0 ... 0 0 0]\n",
      "\n",
      "\n",
      "Accuracy of Support Vector Machine:\n",
      " 70.9353259469209\n"
     ]
    }
   ],
   "source": [
    "from sklearn.svm import SVC # \"Support vector classifier\"  \n",
    "s1 = SVC(kernel='linear', random_state=7)  \n",
    "s1.fit(x_train, y_train)\n",
    "y_pred3 = s1.predict(x_test)\n",
    "print(\"This is the y prediction :\\t\")\n",
    "print(y_pred3)\n",
    "print(\"\\n\")\n",
    "from sklearn.metrics import accuracy_score\n",
    "svm = accuracy_score(y_test,y_pred3)*100\n",
    "print(\"Accuracy of Support Vector Machine:\\n\",svm) "
   ]
  },
  {
   "cell_type": "markdown",
   "metadata": {},
   "source": [
    "## Using Votting Classifier  with\n",
    "## (Logistics Regression, SVM, Random Forest)"
   ]
  },
  {
   "cell_type": "code",
   "execution_count": 42,
   "metadata": {},
   "outputs": [],
   "source": [
    "from sklearn.linear_model import LogisticRegression\n",
    "from sklearn.svm import SVC  \n",
    "from sklearn.ensemble import RandomForestClassifier"
   ]
  },
  {
   "cell_type": "code",
   "execution_count": 43,
   "metadata": {},
   "outputs": [],
   "source": [
    "l2 =LogisticRegression()\n",
    "s2 = SVC()\n",
    "rf1 = RandomForestClassifier()"
   ]
  },
  {
   "cell_type": "code",
   "execution_count": 44,
   "metadata": {},
   "outputs": [
    {
     "data": {
      "text/html": [
       "<style>#sk-container-id-1 {color: black;background-color: white;}#sk-container-id-1 pre{padding: 0;}#sk-container-id-1 div.sk-toggleable {background-color: white;}#sk-container-id-1 label.sk-toggleable__label {cursor: pointer;display: block;width: 100%;margin-bottom: 0;padding: 0.3em;box-sizing: border-box;text-align: center;}#sk-container-id-1 label.sk-toggleable__label-arrow:before {content: \"▸\";float: left;margin-right: 0.25em;color: #696969;}#sk-container-id-1 label.sk-toggleable__label-arrow:hover:before {color: black;}#sk-container-id-1 div.sk-estimator:hover label.sk-toggleable__label-arrow:before {color: black;}#sk-container-id-1 div.sk-toggleable__content {max-height: 0;max-width: 0;overflow: hidden;text-align: left;background-color: #f0f8ff;}#sk-container-id-1 div.sk-toggleable__content pre {margin: 0.2em;color: black;border-radius: 0.25em;background-color: #f0f8ff;}#sk-container-id-1 input.sk-toggleable__control:checked~div.sk-toggleable__content {max-height: 200px;max-width: 100%;overflow: auto;}#sk-container-id-1 input.sk-toggleable__control:checked~label.sk-toggleable__label-arrow:before {content: \"▾\";}#sk-container-id-1 div.sk-estimator input.sk-toggleable__control:checked~label.sk-toggleable__label {background-color: #d4ebff;}#sk-container-id-1 div.sk-label input.sk-toggleable__control:checked~label.sk-toggleable__label {background-color: #d4ebff;}#sk-container-id-1 input.sk-hidden--visually {border: 0;clip: rect(1px 1px 1px 1px);clip: rect(1px, 1px, 1px, 1px);height: 1px;margin: -1px;overflow: hidden;padding: 0;position: absolute;width: 1px;}#sk-container-id-1 div.sk-estimator {font-family: monospace;background-color: #f0f8ff;border: 1px dotted black;border-radius: 0.25em;box-sizing: border-box;margin-bottom: 0.5em;}#sk-container-id-1 div.sk-estimator:hover {background-color: #d4ebff;}#sk-container-id-1 div.sk-parallel-item::after {content: \"\";width: 100%;border-bottom: 1px solid gray;flex-grow: 1;}#sk-container-id-1 div.sk-label:hover label.sk-toggleable__label {background-color: #d4ebff;}#sk-container-id-1 div.sk-serial::before {content: \"\";position: absolute;border-left: 1px solid gray;box-sizing: border-box;top: 0;bottom: 0;left: 50%;z-index: 0;}#sk-container-id-1 div.sk-serial {display: flex;flex-direction: column;align-items: center;background-color: white;padding-right: 0.2em;padding-left: 0.2em;position: relative;}#sk-container-id-1 div.sk-item {position: relative;z-index: 1;}#sk-container-id-1 div.sk-parallel {display: flex;align-items: stretch;justify-content: center;background-color: white;position: relative;}#sk-container-id-1 div.sk-item::before, #sk-container-id-1 div.sk-parallel-item::before {content: \"\";position: absolute;border-left: 1px solid gray;box-sizing: border-box;top: 0;bottom: 0;left: 50%;z-index: -1;}#sk-container-id-1 div.sk-parallel-item {display: flex;flex-direction: column;z-index: 1;position: relative;background-color: white;}#sk-container-id-1 div.sk-parallel-item:first-child::after {align-self: flex-end;width: 50%;}#sk-container-id-1 div.sk-parallel-item:last-child::after {align-self: flex-start;width: 50%;}#sk-container-id-1 div.sk-parallel-item:only-child::after {width: 0;}#sk-container-id-1 div.sk-dashed-wrapped {border: 1px dashed gray;margin: 0 0.4em 0.5em 0.4em;box-sizing: border-box;padding-bottom: 0.4em;background-color: white;}#sk-container-id-1 div.sk-label label {font-family: monospace;font-weight: bold;display: inline-block;line-height: 1.2em;}#sk-container-id-1 div.sk-label-container {text-align: center;}#sk-container-id-1 div.sk-container {/* jupyter's `normalize.less` sets `[hidden] { display: none; }` but bootstrap.min.css set `[hidden] { display: none !important; }` so we also need the `!important` here to be able to override the default hidden behavior on the sphinx rendered scikit-learn.org. See: https://github.com/scikit-learn/scikit-learn/issues/21755 */display: inline-block !important;position: relative;}#sk-container-id-1 div.sk-text-repr-fallback {display: none;}</style><div id=\"sk-container-id-1\" class=\"sk-top-container\"><div class=\"sk-text-repr-fallback\"><pre>RandomForestClassifier()</pre><b>In a Jupyter environment, please rerun this cell to show the HTML representation or trust the notebook. <br />On GitHub, the HTML representation is unable to render, please try loading this page with nbviewer.org.</b></div><div class=\"sk-container\" hidden><div class=\"sk-item\"><div class=\"sk-estimator sk-toggleable\"><input class=\"sk-toggleable__control sk-hidden--visually\" id=\"sk-estimator-id-1\" type=\"checkbox\" checked><label for=\"sk-estimator-id-1\" class=\"sk-toggleable__label sk-toggleable__label-arrow\">RandomForestClassifier</label><div class=\"sk-toggleable__content\"><pre>RandomForestClassifier()</pre></div></div></div></div></div>"
      ],
      "text/plain": [
       "RandomForestClassifier()"
      ]
     },
     "execution_count": 44,
     "metadata": {},
     "output_type": "execute_result"
    }
   ],
   "source": [
    "l2.fit(x_train,y_train)\n",
    "s2.fit(x_train,y_train)\n",
    "rf1.fit(x_train,y_train)"
   ]
  },
  {
   "cell_type": "markdown",
   "metadata": {},
   "source": [
    "#### Prediction"
   ]
  },
  {
   "cell_type": "code",
   "execution_count": 45,
   "metadata": {},
   "outputs": [],
   "source": [
    "y_pred_1 = l2.predict(x_test)\n",
    "y_pred_2 = s2.predict(x_test)\n",
    "y_pred_3 = rf1.predict(x_test)"
   ]
  },
  {
   "cell_type": "code",
   "execution_count": 46,
   "metadata": {},
   "outputs": [
    {
     "name": "stdout",
     "output_type": "stream",
     "text": [
      "[0 0 0 ... 1 0 0]\n"
     ]
    }
   ],
   "source": [
    "print(y_pred_1)"
   ]
  },
  {
   "cell_type": "code",
   "execution_count": 47,
   "metadata": {},
   "outputs": [
    {
     "name": "stdout",
     "output_type": "stream",
     "text": [
      "[0 0 0 ... 0 0 0]\n"
     ]
    }
   ],
   "source": [
    "print(y_pred_2)"
   ]
  },
  {
   "cell_type": "code",
   "execution_count": 48,
   "metadata": {},
   "outputs": [
    {
     "name": "stdout",
     "output_type": "stream",
     "text": [
      "[1 0 0 ... 0 0 0]\n"
     ]
    }
   ],
   "source": [
    "print(y_pred_3)"
   ]
  },
  {
   "cell_type": "markdown",
   "metadata": {},
   "source": [
    "####  Voting Classifier"
   ]
  },
  {
   "cell_type": "code",
   "execution_count": 49,
   "metadata": {},
   "outputs": [
    {
     "data": {
      "text/html": [
       "<style>#sk-container-id-2 {color: black;background-color: white;}#sk-container-id-2 pre{padding: 0;}#sk-container-id-2 div.sk-toggleable {background-color: white;}#sk-container-id-2 label.sk-toggleable__label {cursor: pointer;display: block;width: 100%;margin-bottom: 0;padding: 0.3em;box-sizing: border-box;text-align: center;}#sk-container-id-2 label.sk-toggleable__label-arrow:before {content: \"▸\";float: left;margin-right: 0.25em;color: #696969;}#sk-container-id-2 label.sk-toggleable__label-arrow:hover:before {color: black;}#sk-container-id-2 div.sk-estimator:hover label.sk-toggleable__label-arrow:before {color: black;}#sk-container-id-2 div.sk-toggleable__content {max-height: 0;max-width: 0;overflow: hidden;text-align: left;background-color: #f0f8ff;}#sk-container-id-2 div.sk-toggleable__content pre {margin: 0.2em;color: black;border-radius: 0.25em;background-color: #f0f8ff;}#sk-container-id-2 input.sk-toggleable__control:checked~div.sk-toggleable__content {max-height: 200px;max-width: 100%;overflow: auto;}#sk-container-id-2 input.sk-toggleable__control:checked~label.sk-toggleable__label-arrow:before {content: \"▾\";}#sk-container-id-2 div.sk-estimator input.sk-toggleable__control:checked~label.sk-toggleable__label {background-color: #d4ebff;}#sk-container-id-2 div.sk-label input.sk-toggleable__control:checked~label.sk-toggleable__label {background-color: #d4ebff;}#sk-container-id-2 input.sk-hidden--visually {border: 0;clip: rect(1px 1px 1px 1px);clip: rect(1px, 1px, 1px, 1px);height: 1px;margin: -1px;overflow: hidden;padding: 0;position: absolute;width: 1px;}#sk-container-id-2 div.sk-estimator {font-family: monospace;background-color: #f0f8ff;border: 1px dotted black;border-radius: 0.25em;box-sizing: border-box;margin-bottom: 0.5em;}#sk-container-id-2 div.sk-estimator:hover {background-color: #d4ebff;}#sk-container-id-2 div.sk-parallel-item::after {content: \"\";width: 100%;border-bottom: 1px solid gray;flex-grow: 1;}#sk-container-id-2 div.sk-label:hover label.sk-toggleable__label {background-color: #d4ebff;}#sk-container-id-2 div.sk-serial::before {content: \"\";position: absolute;border-left: 1px solid gray;box-sizing: border-box;top: 0;bottom: 0;left: 50%;z-index: 0;}#sk-container-id-2 div.sk-serial {display: flex;flex-direction: column;align-items: center;background-color: white;padding-right: 0.2em;padding-left: 0.2em;position: relative;}#sk-container-id-2 div.sk-item {position: relative;z-index: 1;}#sk-container-id-2 div.sk-parallel {display: flex;align-items: stretch;justify-content: center;background-color: white;position: relative;}#sk-container-id-2 div.sk-item::before, #sk-container-id-2 div.sk-parallel-item::before {content: \"\";position: absolute;border-left: 1px solid gray;box-sizing: border-box;top: 0;bottom: 0;left: 50%;z-index: -1;}#sk-container-id-2 div.sk-parallel-item {display: flex;flex-direction: column;z-index: 1;position: relative;background-color: white;}#sk-container-id-2 div.sk-parallel-item:first-child::after {align-self: flex-end;width: 50%;}#sk-container-id-2 div.sk-parallel-item:last-child::after {align-self: flex-start;width: 50%;}#sk-container-id-2 div.sk-parallel-item:only-child::after {width: 0;}#sk-container-id-2 div.sk-dashed-wrapped {border: 1px dashed gray;margin: 0 0.4em 0.5em 0.4em;box-sizing: border-box;padding-bottom: 0.4em;background-color: white;}#sk-container-id-2 div.sk-label label {font-family: monospace;font-weight: bold;display: inline-block;line-height: 1.2em;}#sk-container-id-2 div.sk-label-container {text-align: center;}#sk-container-id-2 div.sk-container {/* jupyter's `normalize.less` sets `[hidden] { display: none; }` but bootstrap.min.css set `[hidden] { display: none !important; }` so we also need the `!important` here to be able to override the default hidden behavior on the sphinx rendered scikit-learn.org. See: https://github.com/scikit-learn/scikit-learn/issues/21755 */display: inline-block !important;position: relative;}#sk-container-id-2 div.sk-text-repr-fallback {display: none;}</style><div id=\"sk-container-id-2\" class=\"sk-top-container\"><div class=\"sk-text-repr-fallback\"><pre>VotingClassifier(estimators=[(&#x27;Logistic&#x27;, LogisticRegression()), (&#x27;SVM&#x27;, SVC()),\n",
       "                             (&#x27;RF&#x27;, RandomForestClassifier())])</pre><b>In a Jupyter environment, please rerun this cell to show the HTML representation or trust the notebook. <br />On GitHub, the HTML representation is unable to render, please try loading this page with nbviewer.org.</b></div><div class=\"sk-container\" hidden><div class=\"sk-item sk-dashed-wrapped\"><div class=\"sk-label-container\"><div class=\"sk-label sk-toggleable\"><input class=\"sk-toggleable__control sk-hidden--visually\" id=\"sk-estimator-id-2\" type=\"checkbox\" ><label for=\"sk-estimator-id-2\" class=\"sk-toggleable__label sk-toggleable__label-arrow\">VotingClassifier</label><div class=\"sk-toggleable__content\"><pre>VotingClassifier(estimators=[(&#x27;Logistic&#x27;, LogisticRegression()), (&#x27;SVM&#x27;, SVC()),\n",
       "                             (&#x27;RF&#x27;, RandomForestClassifier())])</pre></div></div></div><div class=\"sk-parallel\"><div class=\"sk-parallel-item\"><div class=\"sk-item\"><div class=\"sk-label-container\"><div class=\"sk-label sk-toggleable\"><label>Logistic</label></div></div><div class=\"sk-serial\"><div class=\"sk-item\"><div class=\"sk-estimator sk-toggleable\"><input class=\"sk-toggleable__control sk-hidden--visually\" id=\"sk-estimator-id-3\" type=\"checkbox\" ><label for=\"sk-estimator-id-3\" class=\"sk-toggleable__label sk-toggleable__label-arrow\">LogisticRegression</label><div class=\"sk-toggleable__content\"><pre>LogisticRegression()</pre></div></div></div></div></div></div><div class=\"sk-parallel-item\"><div class=\"sk-item\"><div class=\"sk-label-container\"><div class=\"sk-label sk-toggleable\"><label>SVM</label></div></div><div class=\"sk-serial\"><div class=\"sk-item\"><div class=\"sk-estimator sk-toggleable\"><input class=\"sk-toggleable__control sk-hidden--visually\" id=\"sk-estimator-id-4\" type=\"checkbox\" ><label for=\"sk-estimator-id-4\" class=\"sk-toggleable__label sk-toggleable__label-arrow\">SVC</label><div class=\"sk-toggleable__content\"><pre>SVC()</pre></div></div></div></div></div></div><div class=\"sk-parallel-item\"><div class=\"sk-item\"><div class=\"sk-label-container\"><div class=\"sk-label sk-toggleable\"><label>RF</label></div></div><div class=\"sk-serial\"><div class=\"sk-item\"><div class=\"sk-estimator sk-toggleable\"><input class=\"sk-toggleable__control sk-hidden--visually\" id=\"sk-estimator-id-5\" type=\"checkbox\" ><label for=\"sk-estimator-id-5\" class=\"sk-toggleable__label sk-toggleable__label-arrow\">RandomForestClassifier</label><div class=\"sk-toggleable__content\"><pre>RandomForestClassifier()</pre></div></div></div></div></div></div></div></div></div></div>"
      ],
      "text/plain": [
       "VotingClassifier(estimators=[('Logistic', LogisticRegression()), ('SVM', SVC()),\n",
       "                             ('RF', RandomForestClassifier())])"
      ]
     },
     "execution_count": 49,
     "metadata": {},
     "output_type": "execute_result"
    }
   ],
   "source": [
    "from sklearn.ensemble import VotingClassifier\n",
    "maxvote=VotingClassifier(estimators=([(\"Logistic\",l2),(\"SVM\",s2),(\"RF\",rf1)]))\n",
    "maxvote.fit(x_train,y_train)"
   ]
  },
  {
   "cell_type": "code",
   "execution_count": 50,
   "metadata": {},
   "outputs": [
    {
     "name": "stdout",
     "output_type": "stream",
     "text": [
      "[0 0 0 ... 0 0 0]\n"
     ]
    }
   ],
   "source": [
    "y_maxvote=maxvote.predict(x_test)\n",
    "print(y_maxvote)"
   ]
  },
  {
   "cell_type": "code",
   "execution_count": 51,
   "metadata": {},
   "outputs": [
    {
     "name": "stdout",
     "output_type": "stream",
     "text": [
      "Accuracy of Voting Classifier:\n",
      " 80.28858541612986\n"
     ]
    }
   ],
   "source": [
    "from sklearn.metrics import accuracy_score\n",
    "ac = accuracy_score(y_maxvote,y_test)*100\n",
    "print(\"Accuracy of Voting Classifier:\\n\",ac) "
   ]
  },
  {
   "cell_type": "markdown",
   "metadata": {},
   "source": [
    "## Bagging with SVM"
   ]
  },
  {
   "cell_type": "code",
   "execution_count": 52,
   "metadata": {
    "scrolled": true
   },
   "outputs": [
    {
     "name": "stdout",
     "output_type": "stream",
     "text": [
      "[0 0 0 ... 0 0 0]\n",
      "Accuracy of Bagging Classifier:\n",
      " 77.40273125483122\n"
     ]
    }
   ],
   "source": [
    "from sklearn.ensemble import BaggingClassifier\n",
    "bg = BaggingClassifier(base_estimator=s2, n_estimators=5,random_state=40)\n",
    "bg.fit(x_train, y_train)\n",
    "bg_pred = bg.predict(x_test)\n",
    "print(bg_pred)\n",
    "bg_ac = accuracy_score(bg_pred, y_test)*100\n",
    "print(\"Accuracy of Bagging Classifier:\\n\",bg_ac) "
   ]
  },
  {
   "cell_type": "markdown",
   "metadata": {},
   "source": [
    "## Stratified K Fold Cross Validation Technique FOR { Logistic Regression }"
   ]
  },
  {
   "cell_type": "code",
   "execution_count": 53,
   "metadata": {},
   "outputs": [
    {
     "data": {
      "text/plain": [
       "5"
      ]
     },
     "execution_count": 53,
     "metadata": {},
     "output_type": "execute_result"
    }
   ],
   "source": [
    "from sklearn.model_selection import StratifiedKFold\n",
    "skf = StratifiedKFold(n_splits=5, shuffle=True, random_state=10)\n",
    "skf.get_n_splits()"
   ]
  },
  {
   "cell_type": "code",
   "execution_count": 54,
   "metadata": {},
   "outputs": [],
   "source": [
    "from sklearn.model_selection import cross_val_score\n",
    "from sklearn.model_selection import cross_val_predict\n",
    "from sklearn.linear_model import LogisticRegression \n",
    "lr1=LogisticRegression()"
   ]
  },
  {
   "cell_type": "code",
   "execution_count": 55,
   "metadata": {},
   "outputs": [],
   "source": [
    "scores = cross_val_score(lr1,x_train,y_train,cv=skf)\n",
    "y_pred_skf = cross_val_predict(lr1,x_test,y_test)\n"
   ]
  },
  {
   "cell_type": "code",
   "execution_count": 56,
   "metadata": {},
   "outputs": [
    {
     "name": "stdout",
     "output_type": "stream",
     "text": [
      "[0 0 0 ... 1 0 0]\n"
     ]
    }
   ],
   "source": [
    "print(y_pred_skf)"
   ]
  },
  {
   "cell_type": "code",
   "execution_count": 57,
   "metadata": {},
   "outputs": [
    {
     "name": "stdout",
     "output_type": "stream",
     "text": [
      "[0.70950081 0.70628019 0.70499195 0.69619845 0.70393041]\n"
     ]
    }
   ],
   "source": [
    "print(scores)"
   ]
  },
  {
   "cell_type": "code",
   "execution_count": 58,
   "metadata": {},
   "outputs": [
    {
     "name": "stdout",
     "output_type": "stream",
     "text": [
      "Accuracy of Stratified K Fold: 70.4180362567857\n"
     ]
    }
   ],
   "source": [
    "from statistics import mean\n",
    "skf1=mean(scores)*100\n",
    "print(\"Accuracy of Stratified K Fold:\",skf1)"
   ]
  },
  {
   "cell_type": "markdown",
   "metadata": {},
   "source": [
    "## Appendix"
   ]
  },
  {
   "cell_type": "code",
   "execution_count": 59,
   "metadata": {},
   "outputs": [
    {
     "name": "stdout",
     "output_type": "stream",
     "text": [
      "[1 0 0 ... 0 1 0]\n",
      "Accuracy of Bagging Classifier:\n",
      " 77.40273125483122\n"
     ]
    }
   ],
   "source": [
    "from sklearn.neighbors import KNeighborsClassifier\n",
    "knn=KNeighborsClassifier()\n",
    "from sklearn.ensemble import BaggingClassifier\n",
    "bg_knn = BaggingClassifier(base_estimator=knn, n_estimators=5,random_state=40)\n",
    "bg_knn.fit(x_train, y_train)\n",
    "bg_knn_pred = bg_knn.predict(x_test)\n",
    "print(bg_knn_pred)\n",
    "bg_knn_ac = accuracy_score(bg_pred, y_test)*100\n",
    "print(\"Accuracy of Bagging Classifier:\\n\",bg_ac) "
   ]
  },
  {
   "cell_type": "code",
   "execution_count": null,
   "metadata": {},
   "outputs": [],
   "source": []
  }
 ],
 "metadata": {
  "kernelspec": {
   "display_name": "Python 3 (ipykernel)",
   "language": "python",
   "name": "python3"
  },
  "language_info": {
   "codemirror_mode": {
    "name": "ipython",
    "version": 3
   },
   "file_extension": ".py",
   "mimetype": "text/x-python",
   "name": "python",
   "nbconvert_exporter": "python",
   "pygments_lexer": "ipython3",
   "version": "3.9.7"
  }
 },
 "nbformat": 4,
 "nbformat_minor": 4
}
